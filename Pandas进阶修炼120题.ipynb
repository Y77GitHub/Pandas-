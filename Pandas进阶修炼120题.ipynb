{
 "cells": [
  {
   "cell_type": "code",
   "execution_count": 1,
   "metadata": {},
   "outputs": [],
   "source": [
    "import pandas as pd\n",
    "import numpy as np"
   ]
  },
  {
   "cell_type": "markdown",
   "metadata": {},
   "source": [
    "# 1.创建DataFrame\n",
    "题目：将下面的字典创建为DataFrame\n",
    "  * 注意传递的字典类型，必须有[]"
   ]
  },
  {
   "cell_type": "code",
   "execution_count": 2,
   "metadata": {},
   "outputs": [],
   "source": [
    "# 字典类型1\n",
    "data={\"grammer\":[\"Python\",\"C\",\"Java\",\"Go\",\"R\",\"SQL\",\"PHP\",\"Python\"],\n",
    "     \"score\":[1,2,np.nan,4,5,6,7,10]}\n",
    "# 字典类型2\n",
    "# data={\"grammer\":\"Python\",\n",
    "#      \"score\":[1,2]}\n",
    "# 字典类型3\n",
    "# data={\"grammer\":\"Python\"} #ValueError:如果使用所有标量值，则必须传递索引\n",
    "df=pd.DataFrame(data)"
   ]
  },
  {
   "cell_type": "markdown",
   "metadata": {},
   "source": [
    "# 2.数据提取\n",
    "提取含有字符串“Python”的行"
   ]
  },
  {
   "cell_type": "code",
   "execution_count": 3,
   "metadata": {},
   "outputs": [
    {
     "data": {
      "text/html": [
       "<div>\n",
       "<style scoped>\n",
       "    .dataframe tbody tr th:only-of-type {\n",
       "        vertical-align: middle;\n",
       "    }\n",
       "\n",
       "    .dataframe tbody tr th {\n",
       "        vertical-align: top;\n",
       "    }\n",
       "\n",
       "    .dataframe thead th {\n",
       "        text-align: right;\n",
       "    }\n",
       "</style>\n",
       "<table border=\"1\" class=\"dataframe\">\n",
       "  <thead>\n",
       "    <tr style=\"text-align: right;\">\n",
       "      <th></th>\n",
       "      <th>grammer</th>\n",
       "      <th>score</th>\n",
       "    </tr>\n",
       "  </thead>\n",
       "  <tbody>\n",
       "    <tr>\n",
       "      <th>0</th>\n",
       "      <td>Python</td>\n",
       "      <td>1.0</td>\n",
       "    </tr>\n",
       "    <tr>\n",
       "      <th>7</th>\n",
       "      <td>Python</td>\n",
       "      <td>10.0</td>\n",
       "    </tr>\n",
       "  </tbody>\n",
       "</table>\n",
       "</div>"
      ],
      "text/plain": [
       "  grammer  score\n",
       "0  Python    1.0\n",
       "7  Python   10.0"
      ]
     },
     "execution_count": 3,
     "metadata": {},
     "output_type": "execute_result"
    }
   ],
   "source": [
    "# 列的提取方式有两种\n",
    "# df['grammer']\n",
    "df.grammer\n",
    "\n",
    "# .str方法适应于Series\n",
    "df['grammer'].str #StringMethods\n",
    "\n",
    "#.str方法可以使用字符串的相关属性和方法\n",
    "df['grammer'].str.contains('Python') #NaN的bool类型仍为NaN\n",
    "\n",
    "#bool Series在DataFrame中起关键作用，配合df使用索引数量须一致\n",
    "df[df['grammer'].str.contains('Python')]"
   ]
  },
  {
   "cell_type": "markdown",
   "metadata": {},
   "source": [
    "* 若grammer列存在缺失值"
   ]
  },
  {
   "cell_type": "code",
   "execution_count": 4,
   "metadata": {},
   "outputs": [
    {
     "data": {
      "text/html": [
       "<div>\n",
       "<style scoped>\n",
       "    .dataframe tbody tr th:only-of-type {\n",
       "        vertical-align: middle;\n",
       "    }\n",
       "\n",
       "    .dataframe tbody tr th {\n",
       "        vertical-align: top;\n",
       "    }\n",
       "\n",
       "    .dataframe thead th {\n",
       "        text-align: right;\n",
       "    }\n",
       "</style>\n",
       "<table border=\"1\" class=\"dataframe\">\n",
       "  <thead>\n",
       "    <tr style=\"text-align: right;\">\n",
       "      <th></th>\n",
       "      <th>grammer</th>\n",
       "      <th>score</th>\n",
       "    </tr>\n",
       "  </thead>\n",
       "  <tbody>\n",
       "    <tr>\n",
       "      <th>0</th>\n",
       "      <td>Python</td>\n",
       "      <td>1.0</td>\n",
       "    </tr>\n",
       "    <tr>\n",
       "      <th>1</th>\n",
       "      <td>C</td>\n",
       "      <td>2.0</td>\n",
       "    </tr>\n",
       "    <tr>\n",
       "      <th>2</th>\n",
       "      <td>Java</td>\n",
       "      <td>NaN</td>\n",
       "    </tr>\n",
       "    <tr>\n",
       "      <th>3</th>\n",
       "      <td>Go</td>\n",
       "      <td>4.0</td>\n",
       "    </tr>\n",
       "    <tr>\n",
       "      <th>4</th>\n",
       "      <td>NaN</td>\n",
       "      <td>5.0</td>\n",
       "    </tr>\n",
       "    <tr>\n",
       "      <th>5</th>\n",
       "      <td>SQL</td>\n",
       "      <td>6.0</td>\n",
       "    </tr>\n",
       "    <tr>\n",
       "      <th>6</th>\n",
       "      <td>PHP</td>\n",
       "      <td>7.0</td>\n",
       "    </tr>\n",
       "    <tr>\n",
       "      <th>7</th>\n",
       "      <td>Python</td>\n",
       "      <td>10.0</td>\n",
       "    </tr>\n",
       "  </tbody>\n",
       "</table>\n",
       "</div>"
      ],
      "text/plain": [
       "  grammer  score\n",
       "0  Python    1.0\n",
       "1       C    2.0\n",
       "2    Java    NaN\n",
       "3      Go    4.0\n",
       "4     NaN    5.0\n",
       "5     SQL    6.0\n",
       "6     PHP    7.0\n",
       "7  Python   10.0"
      ]
     },
     "execution_count": 4,
     "metadata": {},
     "output_type": "execute_result"
    }
   ],
   "source": [
    "data={\"grammer\":[\"Python\",\"C\",\"Java\",\"Go\",np.nan,\"SQL\",\"PHP\",\"Python\"],\n",
    "     \"score\":[1,2,np.nan,4,5,6,7,10]}\n",
    "df2=pd.DataFrame(data)\n",
    "df2"
   ]
  },
  {
   "cell_type": "code",
   "execution_count": 5,
   "metadata": {},
   "outputs": [
    {
     "data": {
      "text/plain": [
       "0     True\n",
       "1    False\n",
       "2    False\n",
       "3    False\n",
       "5    False\n",
       "6    False\n",
       "7     True\n",
       "Name: grammer, dtype: bool"
      ]
     },
     "execution_count": 5,
     "metadata": {},
     "output_type": "execute_result"
    }
   ],
   "source": [
    "len(df2) #8\n",
    "\n",
    "len(df2['grammer'].dropna().str.contains('Python')) #7\n",
    "df2['grammer'].dropna().str.contains('Python') #只能得到bool类型\n",
    "# df2[df2['grammer'].dropna().str.contains('Python')] #出错，不能获取含“Python”的列"
   ]
  },
  {
   "cell_type": "code",
   "execution_count": 6,
   "metadata": {},
   "outputs": [
    {
     "data": {
      "text/html": [
       "<div>\n",
       "<style scoped>\n",
       "    .dataframe tbody tr th:only-of-type {\n",
       "        vertical-align: middle;\n",
       "    }\n",
       "\n",
       "    .dataframe tbody tr th {\n",
       "        vertical-align: top;\n",
       "    }\n",
       "\n",
       "    .dataframe thead th {\n",
       "        text-align: right;\n",
       "    }\n",
       "</style>\n",
       "<table border=\"1\" class=\"dataframe\">\n",
       "  <thead>\n",
       "    <tr style=\"text-align: right;\">\n",
       "      <th></th>\n",
       "      <th>grammer</th>\n",
       "      <th>score</th>\n",
       "    </tr>\n",
       "  </thead>\n",
       "  <tbody>\n",
       "    <tr>\n",
       "      <th>0</th>\n",
       "      <td>Python</td>\n",
       "      <td>1.0</td>\n",
       "    </tr>\n",
       "    <tr>\n",
       "      <th>1</th>\n",
       "      <td>C</td>\n",
       "      <td>2.0</td>\n",
       "    </tr>\n",
       "    <tr>\n",
       "      <th>2</th>\n",
       "      <td>Java</td>\n",
       "      <td>NaN</td>\n",
       "    </tr>\n",
       "    <tr>\n",
       "      <th>3</th>\n",
       "      <td>Go</td>\n",
       "      <td>4.0</td>\n",
       "    </tr>\n",
       "    <tr>\n",
       "      <th>5</th>\n",
       "      <td>SQL</td>\n",
       "      <td>6.0</td>\n",
       "    </tr>\n",
       "    <tr>\n",
       "      <th>6</th>\n",
       "      <td>PHP</td>\n",
       "      <td>7.0</td>\n",
       "    </tr>\n",
       "    <tr>\n",
       "      <th>7</th>\n",
       "      <td>Python</td>\n",
       "      <td>10.0</td>\n",
       "    </tr>\n",
       "  </tbody>\n",
       "</table>\n",
       "</div>"
      ],
      "text/plain": [
       "  grammer  score\n",
       "0  Python    1.0\n",
       "1       C    2.0\n",
       "2    Java    NaN\n",
       "3      Go    4.0\n",
       "5     SQL    6.0\n",
       "6     PHP    7.0\n",
       "7  Python   10.0"
      ]
     },
     "execution_count": 6,
     "metadata": {},
     "output_type": "execute_result"
    }
   ],
   "source": [
    "df2['grammer'].isnull()\n",
    "~df2['grammer'].isnull()#取反\n",
    "df2[~df2['grammer'].isnull()] #选取不是空值的行，两种方法任选其一\n",
    "df2[df2['grammer'].notnull()]"
   ]
  },
  {
   "cell_type": "code",
   "execution_count": 7,
   "metadata": {},
   "outputs": [
    {
     "data": {
      "text/html": [
       "<div>\n",
       "<style scoped>\n",
       "    .dataframe tbody tr th:only-of-type {\n",
       "        vertical-align: middle;\n",
       "    }\n",
       "\n",
       "    .dataframe tbody tr th {\n",
       "        vertical-align: top;\n",
       "    }\n",
       "\n",
       "    .dataframe thead th {\n",
       "        text-align: right;\n",
       "    }\n",
       "</style>\n",
       "<table border=\"1\" class=\"dataframe\">\n",
       "  <thead>\n",
       "    <tr style=\"text-align: right;\">\n",
       "      <th></th>\n",
       "      <th>grammer</th>\n",
       "      <th>score</th>\n",
       "    </tr>\n",
       "  </thead>\n",
       "  <tbody>\n",
       "    <tr>\n",
       "      <th>0</th>\n",
       "      <td>Python</td>\n",
       "      <td>1.0</td>\n",
       "    </tr>\n",
       "    <tr>\n",
       "      <th>7</th>\n",
       "      <td>Python</td>\n",
       "      <td>10.0</td>\n",
       "    </tr>\n",
       "  </tbody>\n",
       "</table>\n",
       "</div>"
      ],
      "text/plain": [
       "  grammer  score\n",
       "0  Python    1.0\n",
       "7  Python   10.0"
      ]
     },
     "execution_count": 7,
     "metadata": {},
     "output_type": "execute_result"
    }
   ],
   "source": [
    "df2=df2[~df2['grammer'].isnull()]\n",
    "result=df2[df2['grammer'].str.contains('Python')]\n",
    "result"
   ]
  },
  {
   "cell_type": "markdown",
   "metadata": {},
   "source": [
    "# 3.提取列名\n",
    "输出df的所有列名"
   ]
  },
  {
   "cell_type": "code",
   "execution_count": 8,
   "metadata": {},
   "outputs": [
    {
     "data": {
      "text/plain": [
       "Index(['grammer', 'score'], dtype='object')"
      ]
     },
     "execution_count": 8,
     "metadata": {},
     "output_type": "execute_result"
    }
   ],
   "source": [
    "df.columns"
   ]
  },
  {
   "cell_type": "code",
   "execution_count": 9,
   "metadata": {},
   "outputs": [
    {
     "data": {
      "text/plain": [
       "RangeIndex(start=0, stop=8, step=1)"
      ]
     },
     "execution_count": 9,
     "metadata": {},
     "output_type": "execute_result"
    }
   ],
   "source": [
    "# 同理可得索引\n",
    "df.index"
   ]
  },
  {
   "cell_type": "markdown",
   "metadata": {},
   "source": [
    "# 4.修改列名\n",
    "修改第二列列名为“popularity”"
   ]
  },
  {
   "cell_type": "code",
   "execution_count": 10,
   "metadata": {},
   "outputs": [],
   "source": [
    "# 方法1\n",
    "df.rename(columns={'score':'popularity'},inplace=True)\n",
    "# 只有使用inplace=True才能把改变反应到原数据\n",
    "# df.rename()\n",
    "\n",
    "#方法2\n",
    "# df=df.rename(columns={'score':'popularity'})\n",
    "#重新赋值，但易出错"
   ]
  },
  {
   "cell_type": "code",
   "execution_count": 11,
   "metadata": {},
   "outputs": [
    {
     "data": {
      "text/html": [
       "<div>\n",
       "<style scoped>\n",
       "    .dataframe tbody tr th:only-of-type {\n",
       "        vertical-align: middle;\n",
       "    }\n",
       "\n",
       "    .dataframe tbody tr th {\n",
       "        vertical-align: top;\n",
       "    }\n",
       "\n",
       "    .dataframe thead th {\n",
       "        text-align: right;\n",
       "    }\n",
       "</style>\n",
       "<table border=\"1\" class=\"dataframe\">\n",
       "  <thead>\n",
       "    <tr style=\"text-align: right;\">\n",
       "      <th></th>\n",
       "      <th>grammer</th>\n",
       "      <th>popularity</th>\n",
       "    </tr>\n",
       "  </thead>\n",
       "  <tbody>\n",
       "    <tr>\n",
       "      <th>0</th>\n",
       "      <td>Python</td>\n",
       "      <td>1.0</td>\n",
       "    </tr>\n",
       "    <tr>\n",
       "      <th>1</th>\n",
       "      <td>C</td>\n",
       "      <td>2.0</td>\n",
       "    </tr>\n",
       "    <tr>\n",
       "      <th>2</th>\n",
       "      <td>Java</td>\n",
       "      <td>NaN</td>\n",
       "    </tr>\n",
       "    <tr>\n",
       "      <th>3</th>\n",
       "      <td>Go</td>\n",
       "      <td>4.0</td>\n",
       "    </tr>\n",
       "    <tr>\n",
       "      <th>4</th>\n",
       "      <td>R</td>\n",
       "      <td>5.0</td>\n",
       "    </tr>\n",
       "    <tr>\n",
       "      <th>5</th>\n",
       "      <td>SQL</td>\n",
       "      <td>6.0</td>\n",
       "    </tr>\n",
       "    <tr>\n",
       "      <th>6</th>\n",
       "      <td>PHP</td>\n",
       "      <td>7.0</td>\n",
       "    </tr>\n",
       "    <tr>\n",
       "      <th>7</th>\n",
       "      <td>Python</td>\n",
       "      <td>10.0</td>\n",
       "    </tr>\n",
       "  </tbody>\n",
       "</table>\n",
       "</div>"
      ],
      "text/plain": [
       "  grammer  popularity\n",
       "0  Python         1.0\n",
       "1       C         2.0\n",
       "2    Java         NaN\n",
       "3      Go         4.0\n",
       "4       R         5.0\n",
       "5     SQL         6.0\n",
       "6     PHP         7.0\n",
       "7  Python        10.0"
      ]
     },
     "execution_count": 11,
     "metadata": {},
     "output_type": "execute_result"
    }
   ],
   "source": [
    "df"
   ]
  },
  {
   "cell_type": "markdown",
   "metadata": {},
   "source": [
    "# 5.字符统计\n",
    "统计grammer列中每种编程语言出现的次数"
   ]
  },
  {
   "cell_type": "code",
   "execution_count": 12,
   "metadata": {},
   "outputs": [
    {
     "data": {
      "text/plain": [
       "Python    2\n",
       "PHP       1\n",
       "SQL       1\n",
       "Go        1\n",
       "R         1\n",
       "C         1\n",
       "Java      1\n",
       "Name: grammer, dtype: int64"
      ]
     },
     "execution_count": 12,
     "metadata": {},
     "output_type": "execute_result"
    }
   ],
   "source": [
    "#统计唯一值\n",
    "df['grammer'].unique()\n",
    "\n",
    "# 统计每个值出现次数\n",
    "df['grammer'].value_counts()"
   ]
  },
  {
   "cell_type": "markdown",
   "metadata": {},
   "source": [
    "# 6.缺失值处理\n",
    "将空值用上下值的平均值填充"
   ]
  },
  {
   "cell_type": "code",
   "execution_count": 13,
   "metadata": {},
   "outputs": [
    {
     "data": {
      "text/plain": [
       "0     1.0\n",
       "1     2.0\n",
       "2     3.0\n",
       "3     4.0\n",
       "4     5.0\n",
       "5     6.0\n",
       "6     7.0\n",
       "7    10.0\n",
       "Name: popularity, dtype: float64"
      ]
     },
     "execution_count": 13,
     "metadata": {},
     "output_type": "execute_result"
    }
   ],
   "source": [
    "#值直接填充\n",
    "df.fillna(999)\n",
    "#使用方法填充\n",
    "df.fillna(method=\"bfill\")#ffill用上值填充,bfill用下值填充\n",
    "\n",
    "df['popularity'].fillna(df['popularity'].interpolate())#用平均值填充，线性方法"
   ]
  },
  {
   "cell_type": "markdown",
   "metadata": {},
   "source": [
    "# 7.数据提取\n",
    "提取popularity列中值大于3的行"
   ]
  },
  {
   "cell_type": "code",
   "execution_count": 14,
   "metadata": {},
   "outputs": [
    {
     "data": {
      "text/html": [
       "<div>\n",
       "<style scoped>\n",
       "    .dataframe tbody tr th:only-of-type {\n",
       "        vertical-align: middle;\n",
       "    }\n",
       "\n",
       "    .dataframe tbody tr th {\n",
       "        vertical-align: top;\n",
       "    }\n",
       "\n",
       "    .dataframe thead th {\n",
       "        text-align: right;\n",
       "    }\n",
       "</style>\n",
       "<table border=\"1\" class=\"dataframe\">\n",
       "  <thead>\n",
       "    <tr style=\"text-align: right;\">\n",
       "      <th></th>\n",
       "      <th>grammer</th>\n",
       "      <th>popularity</th>\n",
       "    </tr>\n",
       "  </thead>\n",
       "  <tbody>\n",
       "    <tr>\n",
       "      <th>3</th>\n",
       "      <td>Go</td>\n",
       "      <td>4.0</td>\n",
       "    </tr>\n",
       "    <tr>\n",
       "      <th>4</th>\n",
       "      <td>R</td>\n",
       "      <td>5.0</td>\n",
       "    </tr>\n",
       "    <tr>\n",
       "      <th>5</th>\n",
       "      <td>SQL</td>\n",
       "      <td>6.0</td>\n",
       "    </tr>\n",
       "    <tr>\n",
       "      <th>6</th>\n",
       "      <td>PHP</td>\n",
       "      <td>7.0</td>\n",
       "    </tr>\n",
       "    <tr>\n",
       "      <th>7</th>\n",
       "      <td>Python</td>\n",
       "      <td>10.0</td>\n",
       "    </tr>\n",
       "  </tbody>\n",
       "</table>\n",
       "</div>"
      ],
      "text/plain": [
       "  grammer  popularity\n",
       "3      Go         4.0\n",
       "4       R         5.0\n",
       "5     SQL         6.0\n",
       "6     PHP         7.0\n",
       "7  Python        10.0"
      ]
     },
     "execution_count": 14,
     "metadata": {},
     "output_type": "execute_result"
    }
   ],
   "source": [
    "#NaN值参与任何比较都是False\n",
    "df['popularity']>3\n",
    "\n",
    "df[df['popularity']>3]"
   ]
  },
  {
   "cell_type": "markdown",
   "metadata": {},
   "source": [
    "# 8.数据去重\n",
    "按照grammer列进行去重"
   ]
  },
  {
   "cell_type": "code",
   "execution_count": 15,
   "metadata": {},
   "outputs": [
    {
     "data": {
      "text/html": [
       "<div>\n",
       "<style scoped>\n",
       "    .dataframe tbody tr th:only-of-type {\n",
       "        vertical-align: middle;\n",
       "    }\n",
       "\n",
       "    .dataframe tbody tr th {\n",
       "        vertical-align: top;\n",
       "    }\n",
       "\n",
       "    .dataframe thead th {\n",
       "        text-align: right;\n",
       "    }\n",
       "</style>\n",
       "<table border=\"1\" class=\"dataframe\">\n",
       "  <thead>\n",
       "    <tr style=\"text-align: right;\">\n",
       "      <th></th>\n",
       "      <th>grammer</th>\n",
       "      <th>popularity</th>\n",
       "    </tr>\n",
       "  </thead>\n",
       "  <tbody>\n",
       "    <tr>\n",
       "      <th>0</th>\n",
       "      <td>Python</td>\n",
       "      <td>1.0</td>\n",
       "    </tr>\n",
       "    <tr>\n",
       "      <th>1</th>\n",
       "      <td>C</td>\n",
       "      <td>2.0</td>\n",
       "    </tr>\n",
       "    <tr>\n",
       "      <th>2</th>\n",
       "      <td>Java</td>\n",
       "      <td>NaN</td>\n",
       "    </tr>\n",
       "    <tr>\n",
       "      <th>3</th>\n",
       "      <td>Go</td>\n",
       "      <td>4.0</td>\n",
       "    </tr>\n",
       "    <tr>\n",
       "      <th>4</th>\n",
       "      <td>R</td>\n",
       "      <td>5.0</td>\n",
       "    </tr>\n",
       "    <tr>\n",
       "      <th>5</th>\n",
       "      <td>SQL</td>\n",
       "      <td>6.0</td>\n",
       "    </tr>\n",
       "    <tr>\n",
       "      <th>6</th>\n",
       "      <td>PHP</td>\n",
       "      <td>7.0</td>\n",
       "    </tr>\n",
       "  </tbody>\n",
       "</table>\n",
       "</div>"
      ],
      "text/plain": [
       "  grammer  popularity\n",
       "0  Python         1.0\n",
       "1       C         2.0\n",
       "2    Java         NaN\n",
       "3      Go         4.0\n",
       "4       R         5.0\n",
       "5     SQL         6.0\n",
       "6     PHP         7.0"
      ]
     },
     "execution_count": 15,
     "metadata": {},
     "output_type": "execute_result"
    }
   ],
   "source": [
    "#查看重复值\n",
    "# df['grammer'].duplicated(keep='first') #保留第一个,后面的重复值显示True\n",
    "df['grammer'].duplicated(keep='last') #保留最后一个,前面的重复值显示True\n",
    "# df['grammer'].duplicated(keep=False) #都不保留，都显示True\n",
    "\n",
    "#删除重复值\n",
    "df['grammer'].drop_duplicates() #删除最后一个\n",
    "\n",
    "#方法2\n",
    "df.drop_duplicates(['grammer']) #打印完整表格"
   ]
  },
  {
   "cell_type": "markdown",
   "metadata": {},
   "source": [
    "# 9.数据计算\n",
    "计算popularity列平均值"
   ]
  },
  {
   "cell_type": "code",
   "execution_count": 16,
   "metadata": {},
   "outputs": [
    {
     "data": {
      "text/plain": [
       "5.0"
      ]
     },
     "execution_count": 16,
     "metadata": {},
     "output_type": "execute_result"
    }
   ],
   "source": [
    "df.mean() #对所有列分别求平均值 sum(),min(),max()\n",
    "\n",
    "df['popularity'].mean()"
   ]
  },
  {
   "cell_type": "markdown",
   "metadata": {},
   "source": [
    "# 10.格式转换\n",
    "将grammer列转换为list"
   ]
  },
  {
   "cell_type": "code",
   "execution_count": 17,
   "metadata": {},
   "outputs": [
    {
     "data": {
      "text/plain": [
       "[0, 1, 2, 3, 4, 5, 6, 7, 8, 9]"
      ]
     },
     "execution_count": 17,
     "metadata": {},
     "output_type": "execute_result"
    }
   ],
   "source": [
    "# to_list()和tolist,Series都能用，ndarray只能用tolist()\n",
    "# df['grammer'].to_list()\n",
    "df['grammer'].tolist()\n",
    "\n",
    "temp=np.arange(10)\n",
    "temp.tolist()\n",
    "# temp.to_list() #AttributeError: 'numpy.ndarray' 对象没有属性'to_list'"
   ]
  },
  {
   "cell_type": "markdown",
   "metadata": {},
   "source": [
    "# 11.数据保存\n",
    "将DataFrame保存为ECXCEL"
   ]
  },
  {
   "cell_type": "code",
   "execution_count": 18,
   "metadata": {},
   "outputs": [],
   "source": [
    "df.to_excel('./Pandas题.xlsx')"
   ]
  },
  {
   "cell_type": "markdown",
   "metadata": {},
   "source": [
    "# 12.数据查看\n",
    "查看数据行列数"
   ]
  },
  {
   "cell_type": "code",
   "execution_count": 19,
   "metadata": {},
   "outputs": [
    {
     "data": {
      "text/plain": [
       "(8, 2)"
      ]
     },
     "execution_count": 19,
     "metadata": {},
     "output_type": "execute_result"
    }
   ],
   "source": [
    "df.shape"
   ]
  },
  {
   "cell_type": "markdown",
   "metadata": {},
   "source": [
    "# 13.数据提取\n",
    "提取popularity列值大于3小于7的行"
   ]
  },
  {
   "cell_type": "code",
   "execution_count": 20,
   "metadata": {},
   "outputs": [
    {
     "data": {
      "text/html": [
       "<div>\n",
       "<style scoped>\n",
       "    .dataframe tbody tr th:only-of-type {\n",
       "        vertical-align: middle;\n",
       "    }\n",
       "\n",
       "    .dataframe tbody tr th {\n",
       "        vertical-align: top;\n",
       "    }\n",
       "\n",
       "    .dataframe thead th {\n",
       "        text-align: right;\n",
       "    }\n",
       "</style>\n",
       "<table border=\"1\" class=\"dataframe\">\n",
       "  <thead>\n",
       "    <tr style=\"text-align: right;\">\n",
       "      <th></th>\n",
       "      <th>grammer</th>\n",
       "      <th>popularity</th>\n",
       "    </tr>\n",
       "  </thead>\n",
       "  <tbody>\n",
       "    <tr>\n",
       "      <th>3</th>\n",
       "      <td>Go</td>\n",
       "      <td>4.0</td>\n",
       "    </tr>\n",
       "    <tr>\n",
       "      <th>4</th>\n",
       "      <td>R</td>\n",
       "      <td>5.0</td>\n",
       "    </tr>\n",
       "    <tr>\n",
       "      <th>5</th>\n",
       "      <td>SQL</td>\n",
       "      <td>6.0</td>\n",
       "    </tr>\n",
       "  </tbody>\n",
       "</table>\n",
       "</div>"
      ],
      "text/plain": [
       "  grammer  popularity\n",
       "3      Go         4.0\n",
       "4       R         5.0\n",
       "5     SQL         6.0"
      ]
     },
     "execution_count": 20,
     "metadata": {},
     "output_type": "execute_result"
    }
   ],
   "source": [
    "#只能用逻辑符号(&,|)，不能用逻辑关键词(and,or)\n",
    "# (df['popularity']>3)and(df['popularity']<7)\n",
    "(df['popularity']>3)&(df['popularity']<7)\n",
    "df[(df['popularity']>3)&(df['popularity']<7)]"
   ]
  },
  {
   "cell_type": "markdown",
   "metadata": {},
   "source": [
    "# 14.位置处理\n",
    "交换两列位置"
   ]
  },
  {
   "cell_type": "code",
   "execution_count": 21,
   "metadata": {},
   "outputs": [],
   "source": [
    "# 方法1\n",
    "# 1.保存数据\n",
    "temp=df['popularity']\n",
    "# 2.删除某列（传入的是个子集）\n",
    "df.drop(labels=['popularity'],axis=1,inplace=True)\n",
    "# 1.插入某列\n",
    "df.insert(0,'popularity',temp)"
   ]
  },
  {
   "cell_type": "code",
   "execution_count": 22,
   "metadata": {},
   "outputs": [],
   "source": [
    "# 方法2,更优，可随意转回\n",
    "df.columns #Index(['popularity', 'grammer'], dtype='object')\n",
    "cols=df.columns[[1,0]] #Index(['grammer', 'popularity'], dtype='object')\n",
    "# 注意两个括号\n",
    "cols\n",
    "df=df[cols]\n",
    "\n",
    "# 同理不可用于index\n",
    "# df.index #RangeIndex(start=0, stop=8, step=1)\n",
    "# df[df.index[[6,3,2,5,4,7,1,0]]] #不能进行行转换"
   ]
  },
  {
   "cell_type": "code",
   "execution_count": 23,
   "metadata": {},
   "outputs": [
    {
     "data": {
      "text/html": [
       "<div>\n",
       "<style scoped>\n",
       "    .dataframe tbody tr th:only-of-type {\n",
       "        vertical-align: middle;\n",
       "    }\n",
       "\n",
       "    .dataframe tbody tr th {\n",
       "        vertical-align: top;\n",
       "    }\n",
       "\n",
       "    .dataframe thead th {\n",
       "        text-align: right;\n",
       "    }\n",
       "</style>\n",
       "<table border=\"1\" class=\"dataframe\">\n",
       "  <thead>\n",
       "    <tr style=\"text-align: right;\">\n",
       "      <th></th>\n",
       "      <th>grammer</th>\n",
       "      <th>popularity</th>\n",
       "    </tr>\n",
       "  </thead>\n",
       "  <tbody>\n",
       "    <tr>\n",
       "      <th>0</th>\n",
       "      <td>Python</td>\n",
       "      <td>1.0</td>\n",
       "    </tr>\n",
       "    <tr>\n",
       "      <th>1</th>\n",
       "      <td>C</td>\n",
       "      <td>2.0</td>\n",
       "    </tr>\n",
       "    <tr>\n",
       "      <th>2</th>\n",
       "      <td>Java</td>\n",
       "      <td>NaN</td>\n",
       "    </tr>\n",
       "    <tr>\n",
       "      <th>3</th>\n",
       "      <td>Go</td>\n",
       "      <td>4.0</td>\n",
       "    </tr>\n",
       "    <tr>\n",
       "      <th>4</th>\n",
       "      <td>R</td>\n",
       "      <td>5.0</td>\n",
       "    </tr>\n",
       "    <tr>\n",
       "      <th>5</th>\n",
       "      <td>SQL</td>\n",
       "      <td>6.0</td>\n",
       "    </tr>\n",
       "    <tr>\n",
       "      <th>6</th>\n",
       "      <td>PHP</td>\n",
       "      <td>7.0</td>\n",
       "    </tr>\n",
       "    <tr>\n",
       "      <th>7</th>\n",
       "      <td>Python</td>\n",
       "      <td>10.0</td>\n",
       "    </tr>\n",
       "  </tbody>\n",
       "</table>\n",
       "</div>"
      ],
      "text/plain": [
       "  grammer  popularity\n",
       "0  Python         1.0\n",
       "1       C         2.0\n",
       "2    Java         NaN\n",
       "3      Go         4.0\n",
       "4       R         5.0\n",
       "5     SQL         6.0\n",
       "6     PHP         7.0\n",
       "7  Python        10.0"
      ]
     },
     "execution_count": 23,
     "metadata": {},
     "output_type": "execute_result"
    }
   ],
   "source": [
    "df"
   ]
  },
  {
   "cell_type": "markdown",
   "metadata": {},
   "source": [
    "# 15.数据提取\n",
    "提取popularity列最大值所在行"
   ]
  },
  {
   "cell_type": "code",
   "execution_count": 24,
   "metadata": {},
   "outputs": [
    {
     "data": {
      "text/html": [
       "<div>\n",
       "<style scoped>\n",
       "    .dataframe tbody tr th:only-of-type {\n",
       "        vertical-align: middle;\n",
       "    }\n",
       "\n",
       "    .dataframe tbody tr th {\n",
       "        vertical-align: top;\n",
       "    }\n",
       "\n",
       "    .dataframe thead th {\n",
       "        text-align: right;\n",
       "    }\n",
       "</style>\n",
       "<table border=\"1\" class=\"dataframe\">\n",
       "  <thead>\n",
       "    <tr style=\"text-align: right;\">\n",
       "      <th></th>\n",
       "      <th>grammer</th>\n",
       "      <th>popularity</th>\n",
       "    </tr>\n",
       "  </thead>\n",
       "  <tbody>\n",
       "    <tr>\n",
       "      <th>7</th>\n",
       "      <td>Python</td>\n",
       "      <td>10.0</td>\n",
       "    </tr>\n",
       "  </tbody>\n",
       "</table>\n",
       "</div>"
      ],
      "text/plain": [
       "  grammer  popularity\n",
       "7  Python        10.0"
      ]
     },
     "execution_count": 24,
     "metadata": {},
     "output_type": "execute_result"
    }
   ],
   "source": [
    "# df['popularity'].max()\n",
    "df['popularity']==df['popularity'].max()\n",
    "df[df['popularity']==df['popularity'].max()]"
   ]
  },
  {
   "cell_type": "markdown",
   "metadata": {},
   "source": [
    "# 16.数据查看\n",
    "查看最后5行数据"
   ]
  },
  {
   "cell_type": "code",
   "execution_count": 25,
   "metadata": {},
   "outputs": [
    {
     "data": {
      "text/html": [
       "<div>\n",
       "<style scoped>\n",
       "    .dataframe tbody tr th:only-of-type {\n",
       "        vertical-align: middle;\n",
       "    }\n",
       "\n",
       "    .dataframe tbody tr th {\n",
       "        vertical-align: top;\n",
       "    }\n",
       "\n",
       "    .dataframe thead th {\n",
       "        text-align: right;\n",
       "    }\n",
       "</style>\n",
       "<table border=\"1\" class=\"dataframe\">\n",
       "  <thead>\n",
       "    <tr style=\"text-align: right;\">\n",
       "      <th></th>\n",
       "      <th>grammer</th>\n",
       "      <th>popularity</th>\n",
       "    </tr>\n",
       "  </thead>\n",
       "  <tbody>\n",
       "    <tr>\n",
       "      <th>7</th>\n",
       "      <td>Python</td>\n",
       "      <td>10.0</td>\n",
       "    </tr>\n",
       "    <tr>\n",
       "      <th>6</th>\n",
       "      <td>PHP</td>\n",
       "      <td>7.0</td>\n",
       "    </tr>\n",
       "    <tr>\n",
       "      <th>5</th>\n",
       "      <td>SQL</td>\n",
       "      <td>6.0</td>\n",
       "    </tr>\n",
       "    <tr>\n",
       "      <th>4</th>\n",
       "      <td>R</td>\n",
       "      <td>5.0</td>\n",
       "    </tr>\n",
       "    <tr>\n",
       "      <th>3</th>\n",
       "      <td>Go</td>\n",
       "      <td>4.0</td>\n",
       "    </tr>\n",
       "  </tbody>\n",
       "</table>\n",
       "</div>"
      ],
      "text/plain": [
       "  grammer  popularity\n",
       "7  Python        10.0\n",
       "6     PHP         7.0\n",
       "5     SQL         6.0\n",
       "4       R         5.0\n",
       "3      Go         4.0"
      ]
     },
     "execution_count": 25,
     "metadata": {},
     "output_type": "execute_result"
    }
   ],
   "source": [
    "df.tail(3) #可自定义查看后n行数据\n",
    "\n",
    "df.iloc[::-1][:5] #::为间隔步数，-1表示倒数，5表示5个"
   ]
  },
  {
   "cell_type": "markdown",
   "metadata": {},
   "source": [
    "# 17.数据修改\n",
    "添加一行数据['Perl',6.6]"
   ]
  },
  {
   "cell_type": "code",
   "execution_count": 26,
   "metadata": {},
   "outputs": [],
   "source": [
    "# 方法1，直接添加\n",
    "# df.loc[55,:]=['Perl',6.6] #索引为55\n",
    "# df.loc[:,555]=[2,3,4,5,6,7,8,9,10] #选择所有的行，添加列名为555的列,传入相应数据\n",
    "\n",
    "# 方法2，append方法，要求字典类型\n",
    "# row={'grammer':'C++','popularity':7.7}\n",
    "# df=df.append(row,ignore_index=True) #TypeError:仅当ignore_index=True或系列具有名称时，才可以追加Series\n",
    "# 只能添加列，且索引自动追加\n",
    "\n",
    "# 方法3，concat方法，要求DF类型，无索引\n",
    "row={'grammer':'HTML','popularity':[8.8]}\n",
    "# pd.concat((df,row)) #TypeError: 无法连接类型为'<class 'dict'>'的对象; 仅Series and DataFrame objs 有效\n",
    "df=pd.concat((df,pd.DataFrame(row)),axis=0,ignore_index=False)"
   ]
  },
  {
   "cell_type": "code",
   "execution_count": 27,
   "metadata": {},
   "outputs": [
    {
     "data": {
      "text/html": [
       "<div>\n",
       "<style scoped>\n",
       "    .dataframe tbody tr th:only-of-type {\n",
       "        vertical-align: middle;\n",
       "    }\n",
       "\n",
       "    .dataframe tbody tr th {\n",
       "        vertical-align: top;\n",
       "    }\n",
       "\n",
       "    .dataframe thead th {\n",
       "        text-align: right;\n",
       "    }\n",
       "</style>\n",
       "<table border=\"1\" class=\"dataframe\">\n",
       "  <thead>\n",
       "    <tr style=\"text-align: right;\">\n",
       "      <th></th>\n",
       "      <th>grammer</th>\n",
       "      <th>popularity</th>\n",
       "    </tr>\n",
       "  </thead>\n",
       "  <tbody>\n",
       "    <tr>\n",
       "      <th>0</th>\n",
       "      <td>Python</td>\n",
       "      <td>1.0</td>\n",
       "    </tr>\n",
       "    <tr>\n",
       "      <th>1</th>\n",
       "      <td>C</td>\n",
       "      <td>2.0</td>\n",
       "    </tr>\n",
       "    <tr>\n",
       "      <th>2</th>\n",
       "      <td>Java</td>\n",
       "      <td>NaN</td>\n",
       "    </tr>\n",
       "    <tr>\n",
       "      <th>3</th>\n",
       "      <td>Go</td>\n",
       "      <td>4.0</td>\n",
       "    </tr>\n",
       "    <tr>\n",
       "      <th>4</th>\n",
       "      <td>R</td>\n",
       "      <td>5.0</td>\n",
       "    </tr>\n",
       "    <tr>\n",
       "      <th>5</th>\n",
       "      <td>SQL</td>\n",
       "      <td>6.0</td>\n",
       "    </tr>\n",
       "    <tr>\n",
       "      <th>6</th>\n",
       "      <td>PHP</td>\n",
       "      <td>7.0</td>\n",
       "    </tr>\n",
       "    <tr>\n",
       "      <th>7</th>\n",
       "      <td>Python</td>\n",
       "      <td>10.0</td>\n",
       "    </tr>\n",
       "    <tr>\n",
       "      <th>0</th>\n",
       "      <td>HTML</td>\n",
       "      <td>8.8</td>\n",
       "    </tr>\n",
       "  </tbody>\n",
       "</table>\n",
       "</div>"
      ],
      "text/plain": [
       "  grammer  popularity\n",
       "0  Python         1.0\n",
       "1       C         2.0\n",
       "2    Java         NaN\n",
       "3      Go         4.0\n",
       "4       R         5.0\n",
       "5     SQL         6.0\n",
       "6     PHP         7.0\n",
       "7  Python        10.0\n",
       "0    HTML         8.8"
      ]
     },
     "execution_count": 27,
     "metadata": {},
     "output_type": "execute_result"
    }
   ],
   "source": [
    "df"
   ]
  },
  {
   "cell_type": "markdown",
   "metadata": {},
   "source": [
    "# 18.数据修改\n",
    "删除最后一行数据"
   ]
  },
  {
   "cell_type": "code",
   "execution_count": 29,
   "metadata": {},
   "outputs": [],
   "source": [
    "df.drop(labels=7) #删除索引为8的行\n",
    "df.iloc[-1] #选择倒数第一行\n",
    "df.iloc[-1].name #索引名\n",
    "df.drop(labels=df.iloc[-1].name,inplace=True)"
   ]
  },
  {
   "cell_type": "code",
   "execution_count": 30,
   "metadata": {},
   "outputs": [
    {
     "data": {
      "text/html": [
       "<div>\n",
       "<style scoped>\n",
       "    .dataframe tbody tr th:only-of-type {\n",
       "        vertical-align: middle;\n",
       "    }\n",
       "\n",
       "    .dataframe tbody tr th {\n",
       "        vertical-align: top;\n",
       "    }\n",
       "\n",
       "    .dataframe thead th {\n",
       "        text-align: right;\n",
       "    }\n",
       "</style>\n",
       "<table border=\"1\" class=\"dataframe\">\n",
       "  <thead>\n",
       "    <tr style=\"text-align: right;\">\n",
       "      <th></th>\n",
       "      <th>grammer</th>\n",
       "      <th>popularity</th>\n",
       "    </tr>\n",
       "  </thead>\n",
       "  <tbody>\n",
       "    <tr>\n",
       "      <th>1</th>\n",
       "      <td>C</td>\n",
       "      <td>2.0</td>\n",
       "    </tr>\n",
       "    <tr>\n",
       "      <th>2</th>\n",
       "      <td>Java</td>\n",
       "      <td>NaN</td>\n",
       "    </tr>\n",
       "    <tr>\n",
       "      <th>3</th>\n",
       "      <td>Go</td>\n",
       "      <td>4.0</td>\n",
       "    </tr>\n",
       "    <tr>\n",
       "      <th>4</th>\n",
       "      <td>R</td>\n",
       "      <td>5.0</td>\n",
       "    </tr>\n",
       "    <tr>\n",
       "      <th>5</th>\n",
       "      <td>SQL</td>\n",
       "      <td>6.0</td>\n",
       "    </tr>\n",
       "    <tr>\n",
       "      <th>6</th>\n",
       "      <td>PHP</td>\n",
       "      <td>7.0</td>\n",
       "    </tr>\n",
       "    <tr>\n",
       "      <th>7</th>\n",
       "      <td>Python</td>\n",
       "      <td>10.0</td>\n",
       "    </tr>\n",
       "  </tbody>\n",
       "</table>\n",
       "</div>"
      ],
      "text/plain": [
       "  grammer  popularity\n",
       "1       C         2.0\n",
       "2    Java         NaN\n",
       "3      Go         4.0\n",
       "4       R         5.0\n",
       "5     SQL         6.0\n",
       "6     PHP         7.0\n",
       "7  Python        10.0"
      ]
     },
     "execution_count": 30,
     "metadata": {},
     "output_type": "execute_result"
    }
   ],
   "source": [
    "df"
   ]
  },
  {
   "cell_type": "markdown",
   "metadata": {},
   "source": [
    "# 19.数据整理\n",
    "对数据按照'popularity'列值的大小进行排序"
   ]
  },
  {
   "cell_type": "code",
   "execution_count": 31,
   "metadata": {},
   "outputs": [
    {
     "data": {
      "text/plain": [
       "7    10.0\n",
       "6     7.0\n",
       "5     6.0\n",
       "4     5.0\n",
       "3     4.0\n",
       "1     2.0\n",
       "2     NaN\n",
       "Name: popularity, dtype: float64"
      ]
     },
     "execution_count": 31,
     "metadata": {},
     "output_type": "execute_result"
    }
   ],
   "source": [
    "df['popularity'].sort_values(ascending=False) #降序,默认升序，NaN在最后\n",
    "# df.sort_index(ascending=False)\n",
    "# df.sort_values(\"popularity\",inplace=True,ascending=False)"
   ]
  },
  {
   "cell_type": "code",
   "execution_count": 32,
   "metadata": {},
   "outputs": [
    {
     "data": {
      "text/html": [
       "<div>\n",
       "<style scoped>\n",
       "    .dataframe tbody tr th:only-of-type {\n",
       "        vertical-align: middle;\n",
       "    }\n",
       "\n",
       "    .dataframe tbody tr th {\n",
       "        vertical-align: top;\n",
       "    }\n",
       "\n",
       "    .dataframe thead th {\n",
       "        text-align: right;\n",
       "    }\n",
       "</style>\n",
       "<table border=\"1\" class=\"dataframe\">\n",
       "  <thead>\n",
       "    <tr style=\"text-align: right;\">\n",
       "      <th></th>\n",
       "      <th>grammer</th>\n",
       "      <th>popularity</th>\n",
       "    </tr>\n",
       "  </thead>\n",
       "  <tbody>\n",
       "    <tr>\n",
       "      <th>1</th>\n",
       "      <td>C</td>\n",
       "      <td>2.0</td>\n",
       "    </tr>\n",
       "    <tr>\n",
       "      <th>2</th>\n",
       "      <td>Java</td>\n",
       "      <td>NaN</td>\n",
       "    </tr>\n",
       "    <tr>\n",
       "      <th>3</th>\n",
       "      <td>Go</td>\n",
       "      <td>4.0</td>\n",
       "    </tr>\n",
       "    <tr>\n",
       "      <th>4</th>\n",
       "      <td>R</td>\n",
       "      <td>5.0</td>\n",
       "    </tr>\n",
       "    <tr>\n",
       "      <th>5</th>\n",
       "      <td>SQL</td>\n",
       "      <td>6.0</td>\n",
       "    </tr>\n",
       "    <tr>\n",
       "      <th>6</th>\n",
       "      <td>PHP</td>\n",
       "      <td>7.0</td>\n",
       "    </tr>\n",
       "    <tr>\n",
       "      <th>7</th>\n",
       "      <td>Python</td>\n",
       "      <td>10.0</td>\n",
       "    </tr>\n",
       "  </tbody>\n",
       "</table>\n",
       "</div>"
      ],
      "text/plain": [
       "  grammer  popularity\n",
       "1       C         2.0\n",
       "2    Java         NaN\n",
       "3      Go         4.0\n",
       "4       R         5.0\n",
       "5     SQL         6.0\n",
       "6     PHP         7.0\n",
       "7  Python        10.0"
      ]
     },
     "execution_count": 32,
     "metadata": {},
     "output_type": "execute_result"
    }
   ],
   "source": [
    "df"
   ]
  },
  {
   "cell_type": "markdown",
   "metadata": {},
   "source": [
    "# 20.字符统计\n",
    "统计grammer列每个字符串的长度"
   ]
  },
  {
   "cell_type": "code",
   "execution_count": 34,
   "metadata": {},
   "outputs": [
    {
     "data": {
      "text/plain": [
       "grammer       SQL\n",
       "popularity     10\n",
       "dtype: object"
      ]
     },
     "execution_count": 34,
     "metadata": {},
     "output_type": "execute_result"
    }
   ],
   "source": [
    "# 方法1\n",
    "# df['grammer'].map(lambda x:len(x)) #针对某一个列\n",
    "df['grammer'].apply(lambda x:len(x)) #针对整个数组\n",
    "df.apply(lambda x:x.max()) #获取最大值，字符串按字母顺序排列，而不是长度\n",
    "\n",
    "# 方法2\n",
    "# df['grammer'].str.len()\n",
    "\n",
    "# df['popularity'][2] #float类型长度为nan\n",
    "# len(df['popularity'][2]) #TypeError: object of type 'numpy.float64' has no len()\n",
    "\n",
    "# 若原数据中有缺失值\n",
    "# df2=df[~df['grammer'].isnull()]\n",
    "# df2['grammer'].map(lambda x:len(x))"
   ]
  },
  {
   "cell_type": "markdown",
   "metadata": {},
   "source": [
    "# pandas数据处理"
   ]
  },
  {
   "cell_type": "markdown",
   "metadata": {},
   "source": [
    "# 21.数据读取\n",
    "读取本地EXCEL数据"
   ]
  },
  {
   "cell_type": "code",
   "execution_count": 260,
   "metadata": {},
   "outputs": [
    {
     "data": {
      "text/html": [
       "<div>\n",
       "<style scoped>\n",
       "    .dataframe tbody tr th:only-of-type {\n",
       "        vertical-align: middle;\n",
       "    }\n",
       "\n",
       "    .dataframe tbody tr th {\n",
       "        vertical-align: top;\n",
       "    }\n",
       "\n",
       "    .dataframe thead th {\n",
       "        text-align: right;\n",
       "    }\n",
       "</style>\n",
       "<table border=\"1\" class=\"dataframe\">\n",
       "  <thead>\n",
       "    <tr style=\"text-align: right;\">\n",
       "      <th></th>\n",
       "      <th>createTime</th>\n",
       "      <th>education</th>\n",
       "      <th>salary</th>\n",
       "    </tr>\n",
       "  </thead>\n",
       "  <tbody>\n",
       "    <tr>\n",
       "      <th>0</th>\n",
       "      <td>2020-03-16 11:30:18</td>\n",
       "      <td>本科</td>\n",
       "      <td>20k-35k</td>\n",
       "    </tr>\n",
       "    <tr>\n",
       "      <th>1</th>\n",
       "      <td>2020-03-16 10:58:48</td>\n",
       "      <td>本科</td>\n",
       "      <td>20k-40k</td>\n",
       "    </tr>\n",
       "    <tr>\n",
       "      <th>2</th>\n",
       "      <td>2020-03-16 10:46:39</td>\n",
       "      <td>不限</td>\n",
       "      <td>20k-35k</td>\n",
       "    </tr>\n",
       "    <tr>\n",
       "      <th>3</th>\n",
       "      <td>2020-03-16 10:45:44</td>\n",
       "      <td>本科</td>\n",
       "      <td>13k-20k</td>\n",
       "    </tr>\n",
       "    <tr>\n",
       "      <th>4</th>\n",
       "      <td>2020-03-16 10:20:41</td>\n",
       "      <td>本科</td>\n",
       "      <td>10k-20k</td>\n",
       "    </tr>\n",
       "    <tr>\n",
       "      <th>...</th>\n",
       "      <td>...</td>\n",
       "      <td>...</td>\n",
       "      <td>...</td>\n",
       "    </tr>\n",
       "    <tr>\n",
       "      <th>130</th>\n",
       "      <td>2020-03-16 11:36:07</td>\n",
       "      <td>本科</td>\n",
       "      <td>10k-18k</td>\n",
       "    </tr>\n",
       "    <tr>\n",
       "      <th>131</th>\n",
       "      <td>2020-03-16 09:54:47</td>\n",
       "      <td>硕士</td>\n",
       "      <td>25k-50k</td>\n",
       "    </tr>\n",
       "    <tr>\n",
       "      <th>132</th>\n",
       "      <td>2020-03-16 10:48:32</td>\n",
       "      <td>本科</td>\n",
       "      <td>20k-40k</td>\n",
       "    </tr>\n",
       "    <tr>\n",
       "      <th>133</th>\n",
       "      <td>2020-03-16 10:46:31</td>\n",
       "      <td>本科</td>\n",
       "      <td>15k-23k</td>\n",
       "    </tr>\n",
       "    <tr>\n",
       "      <th>134</th>\n",
       "      <td>2020-03-16 11:19:38</td>\n",
       "      <td>本科</td>\n",
       "      <td>20k-40k</td>\n",
       "    </tr>\n",
       "  </tbody>\n",
       "</table>\n",
       "<p>135 rows × 3 columns</p>\n",
       "</div>"
      ],
      "text/plain": [
       "             createTime education   salary\n",
       "0   2020-03-16 11:30:18        本科  20k-35k\n",
       "1   2020-03-16 10:58:48        本科  20k-40k\n",
       "2   2020-03-16 10:46:39        不限  20k-35k\n",
       "3   2020-03-16 10:45:44        本科  13k-20k\n",
       "4   2020-03-16 10:20:41        本科  10k-20k\n",
       "..                  ...       ...      ...\n",
       "130 2020-03-16 11:36:07        本科  10k-18k\n",
       "131 2020-03-16 09:54:47        硕士  25k-50k\n",
       "132 2020-03-16 10:48:32        本科  20k-40k\n",
       "133 2020-03-16 10:46:31        本科  15k-23k\n",
       "134 2020-03-16 11:19:38        本科  20k-40k\n",
       "\n",
       "[135 rows x 3 columns]"
      ]
     },
     "execution_count": 260,
     "metadata": {},
     "output_type": "execute_result"
    }
   ],
   "source": [
    "# 1.相对路径\n",
    "df=pd.read_excel('./21-50数据.xlsx')\n",
    "\n",
    "# 2.绝对路径（r可以防止‘\\'的逃逸）\n",
    "# 2.1方式1\n",
    "# pd.read_excel('D:/研究生/比赛/系统更新二分类/Untitled Folder/21-50数据.xlsx')\n",
    "# 2.2方式2\n",
    "pd.read_excel(r'D:\\研究生\\比赛\\系统更新二分类\\Untitled Folder/21-50数据.xlsx')\n",
    "# df\n"
   ]
  },
  {
   "cell_type": "markdown",
   "metadata": {},
   "source": [
    "# 22.查看df数据前5行\n",
    "查看df数据前5行"
   ]
  },
  {
   "cell_type": "code",
   "execution_count": 105,
   "metadata": {},
   "outputs": [
    {
     "data": {
      "text/html": [
       "<div>\n",
       "<style scoped>\n",
       "    .dataframe tbody tr th:only-of-type {\n",
       "        vertical-align: middle;\n",
       "    }\n",
       "\n",
       "    .dataframe tbody tr th {\n",
       "        vertical-align: top;\n",
       "    }\n",
       "\n",
       "    .dataframe thead th {\n",
       "        text-align: right;\n",
       "    }\n",
       "</style>\n",
       "<table border=\"1\" class=\"dataframe\">\n",
       "  <thead>\n",
       "    <tr style=\"text-align: right;\">\n",
       "      <th></th>\n",
       "      <th>createTime</th>\n",
       "      <th>education</th>\n",
       "      <th>salary</th>\n",
       "    </tr>\n",
       "  </thead>\n",
       "  <tbody>\n",
       "    <tr>\n",
       "      <th>0</th>\n",
       "      <td>2020-03-16 11:30:18</td>\n",
       "      <td>本科</td>\n",
       "      <td>20k-35k</td>\n",
       "    </tr>\n",
       "    <tr>\n",
       "      <th>1</th>\n",
       "      <td>2020-03-16 10:58:48</td>\n",
       "      <td>本科</td>\n",
       "      <td>20k-40k</td>\n",
       "    </tr>\n",
       "    <tr>\n",
       "      <th>2</th>\n",
       "      <td>2020-03-16 10:46:39</td>\n",
       "      <td>不限</td>\n",
       "      <td>20k-35k</td>\n",
       "    </tr>\n",
       "    <tr>\n",
       "      <th>3</th>\n",
       "      <td>2020-03-16 10:45:44</td>\n",
       "      <td>本科</td>\n",
       "      <td>13k-20k</td>\n",
       "    </tr>\n",
       "    <tr>\n",
       "      <th>4</th>\n",
       "      <td>2020-03-16 10:20:41</td>\n",
       "      <td>本科</td>\n",
       "      <td>10k-20k</td>\n",
       "    </tr>\n",
       "  </tbody>\n",
       "</table>\n",
       "</div>"
      ],
      "text/plain": [
       "           createTime education   salary\n",
       "0 2020-03-16 11:30:18        本科  20k-35k\n",
       "1 2020-03-16 10:58:48        本科  20k-40k\n",
       "2 2020-03-16 10:46:39        不限  20k-35k\n",
       "3 2020-03-16 10:45:44        本科  13k-20k\n",
       "4 2020-03-16 10:20:41        本科  10k-20k"
      ]
     },
     "execution_count": 105,
     "metadata": {},
     "output_type": "execute_result"
    }
   ],
   "source": [
    "df.head()"
   ]
  },
  {
   "cell_type": "markdown",
   "metadata": {},
   "source": [
    "# 23.数据计算\n",
    "将salary列数据转换为最大值与最小值的平均值"
   ]
  },
  {
   "cell_type": "code",
   "execution_count": 40,
   "metadata": {},
   "outputs": [],
   "source": [
    "import re"
   ]
  },
  {
   "cell_type": "code",
   "execution_count": 53,
   "metadata": {},
   "outputs": [
    {
     "data": {
      "text/plain": [
       "27.5"
      ]
     },
     "execution_count": 53,
     "metadata": {},
     "output_type": "execute_result"
    }
   ],
   "source": [
    "df.iloc[0] #第0行\n",
    "df.iloc[0,2] #第0行第2列\n",
    "\n",
    "# 正则表达式\n",
    "list_temp=re.findall(r'\\d+\\.?\\d*',df.iloc[0,2]) #第一个参数是模式，第二个是要匹配的内容\n",
    "list_temp #20,35\n",
    "# type(list_temp[0])\n",
    "# str中'+'表示连接，'*'表示重复\n",
    "# int中'+*/'才是计算\n",
    "\n",
    "# list_temp[0]+list_temp[1] #2035\n",
    "# float(list_temp[0]) #20.0\n",
    "(float(list_temp[0])+float(list_temp[1]))/2"
   ]
  },
  {
   "cell_type": "code",
   "execution_count": 76,
   "metadata": {},
   "outputs": [
    {
     "data": {
      "text/html": [
       "<div>\n",
       "<style scoped>\n",
       "    .dataframe tbody tr th:only-of-type {\n",
       "        vertical-align: middle;\n",
       "    }\n",
       "\n",
       "    .dataframe tbody tr th {\n",
       "        vertical-align: top;\n",
       "    }\n",
       "\n",
       "    .dataframe thead th {\n",
       "        text-align: right;\n",
       "    }\n",
       "</style>\n",
       "<table border=\"1\" class=\"dataframe\">\n",
       "  <thead>\n",
       "    <tr style=\"text-align: right;\">\n",
       "      <th></th>\n",
       "      <th>createTime</th>\n",
       "      <th>education</th>\n",
       "      <th>salary</th>\n",
       "    </tr>\n",
       "  </thead>\n",
       "  <tbody>\n",
       "    <tr>\n",
       "      <th>0</th>\n",
       "      <td>2020-03-16 11:30:18</td>\n",
       "      <td>本科</td>\n",
       "      <td>27500</td>\n",
       "    </tr>\n",
       "    <tr>\n",
       "      <th>1</th>\n",
       "      <td>2020-03-16 10:58:48</td>\n",
       "      <td>本科</td>\n",
       "      <td>20k-40k</td>\n",
       "    </tr>\n",
       "    <tr>\n",
       "      <th>2</th>\n",
       "      <td>2020-03-16 10:46:39</td>\n",
       "      <td>不限</td>\n",
       "      <td>20k-35k</td>\n",
       "    </tr>\n",
       "  </tbody>\n",
       "</table>\n",
       "</div>"
      ],
      "text/plain": [
       "           createTime education   salary\n",
       "0 2020-03-16 11:30:18        本科    27500\n",
       "1 2020-03-16 10:58:48        本科  20k-40k\n",
       "2 2020-03-16 10:46:39        不限  20k-35k"
      ]
     },
     "execution_count": 76,
     "metadata": {},
     "output_type": "execute_result"
    }
   ],
   "source": [
    "df.head(3)"
   ]
  },
  {
   "cell_type": "code",
   "execution_count": 69,
   "metadata": {},
   "outputs": [
    {
     "data": {
      "text/plain": [
       "'20k-35k'"
      ]
     },
     "execution_count": 69,
     "metadata": {},
     "output_type": "execute_result"
    }
   ],
   "source": [
    "df.iloc[-3] #可以是负数，表示倒数第3行\n",
    "df.loc[2] #索引名为2,不能为负数\n",
    "\n",
    "df.iloc[2,2] #第3行第4列\n",
    "df.loc[2,'salary'] #第3行名为salary的列\n"
   ]
  },
  {
   "cell_type": "code",
   "execution_count": 261,
   "metadata": {},
   "outputs": [
    {
     "name": "stdout",
     "output_type": "stream",
     "text": [
      "says: <class 'str'>\n",
      "says: <class 'float'>\n",
      "says: <class 'str'>\n",
      "says: <class 'float'>\n",
      "says: <class 'str'>\n",
      "says: <class 'float'>\n",
      "says: <class 'str'>\n",
      "says: <class 'float'>\n",
      "says: <class 'str'>\n",
      "says: <class 'float'>\n",
      "says: <class 'str'>\n",
      "says: <class 'float'>\n",
      "says: <class 'str'>\n",
      "says: <class 'float'>\n",
      "says: <class 'str'>\n",
      "says: <class 'float'>\n",
      "says: <class 'str'>\n",
      "says: <class 'float'>\n",
      "says: <class 'str'>\n",
      "says: <class 'float'>\n",
      "says: <class 'str'>\n",
      "says: <class 'float'>\n",
      "says: <class 'str'>\n",
      "says: <class 'float'>\n",
      "says: <class 'str'>\n",
      "says: <class 'float'>\n",
      "says: <class 'str'>\n",
      "says: <class 'float'>\n",
      "says: <class 'str'>\n",
      "says: <class 'float'>\n",
      "says: <class 'str'>\n",
      "says: <class 'float'>\n",
      "says: <class 'str'>\n",
      "says: <class 'float'>\n",
      "says: <class 'str'>\n",
      "says: <class 'float'>\n",
      "says: <class 'str'>\n",
      "says: <class 'float'>\n",
      "says: <class 'str'>\n",
      "says: <class 'float'>\n",
      "says: <class 'str'>\n",
      "says: <class 'float'>\n",
      "says: <class 'str'>\n",
      "says: <class 'float'>\n",
      "says: <class 'str'>\n",
      "says: <class 'float'>\n",
      "says: <class 'str'>\n",
      "says: <class 'float'>\n",
      "says: <class 'str'>\n",
      "says: <class 'float'>\n",
      "says: <class 'str'>\n",
      "says: <class 'float'>\n",
      "says: <class 'str'>\n",
      "says: <class 'float'>\n",
      "says: <class 'str'>\n",
      "says: <class 'float'>\n",
      "says: <class 'str'>\n",
      "says: <class 'float'>\n",
      "says: <class 'str'>\n",
      "says: <class 'float'>\n",
      "says: <class 'str'>\n",
      "says: <class 'float'>\n",
      "says: <class 'str'>\n",
      "says: <class 'float'>\n",
      "says: <class 'str'>\n",
      "says: <class 'float'>\n",
      "says: <class 'str'>\n",
      "says: <class 'float'>\n",
      "says: <class 'str'>\n",
      "says: <class 'float'>\n",
      "says: <class 'str'>\n",
      "says: <class 'float'>\n",
      "says: <class 'str'>\n",
      "says: <class 'float'>\n",
      "says: <class 'str'>\n",
      "says: <class 'float'>\n",
      "says: <class 'str'>\n",
      "says: <class 'float'>\n",
      "says: <class 'str'>\n",
      "says: <class 'float'>\n",
      "says: <class 'str'>\n",
      "says: <class 'float'>\n",
      "says: <class 'str'>\n",
      "says: <class 'float'>\n",
      "says: <class 'str'>\n",
      "says: <class 'float'>\n",
      "says: <class 'str'>\n",
      "says: <class 'float'>\n",
      "says: <class 'str'>\n",
      "says: <class 'float'>\n",
      "says: <class 'str'>\n",
      "says: <class 'float'>\n",
      "says: <class 'str'>\n",
      "says: <class 'float'>\n",
      "says: <class 'str'>\n",
      "says: <class 'float'>\n",
      "says: <class 'str'>\n",
      "says: <class 'float'>\n",
      "says: <class 'str'>\n",
      "says: <class 'float'>\n",
      "says: <class 'str'>\n",
      "says: <class 'float'>\n",
      "says: <class 'str'>\n",
      "says: <class 'float'>\n",
      "says: <class 'str'>\n",
      "says: <class 'float'>\n",
      "says: <class 'str'>\n",
      "says: <class 'float'>\n",
      "says: <class 'str'>\n",
      "says: <class 'float'>\n",
      "says: <class 'str'>\n",
      "says: <class 'float'>\n",
      "says: <class 'str'>\n",
      "says: <class 'float'>\n",
      "says: <class 'str'>\n",
      "says: <class 'float'>\n",
      "says: <class 'str'>\n",
      "says: <class 'float'>\n",
      "says: <class 'str'>\n",
      "says: <class 'float'>\n",
      "says: <class 'str'>\n",
      "says: <class 'float'>\n",
      "says: <class 'str'>\n",
      "says: <class 'float'>\n",
      "says: <class 'str'>\n",
      "says: <class 'float'>\n",
      "says: <class 'str'>\n",
      "says: <class 'float'>\n",
      "says: <class 'str'>\n",
      "says: <class 'float'>\n",
      "says: <class 'str'>\n",
      "says: <class 'float'>\n",
      "says: <class 'str'>\n",
      "says: <class 'float'>\n",
      "says: <class 'str'>\n",
      "says: <class 'float'>\n",
      "says: <class 'str'>\n",
      "says: <class 'float'>\n",
      "says: <class 'str'>\n",
      "says: <class 'float'>\n",
      "says: <class 'str'>\n",
      "says: <class 'float'>\n",
      "says: <class 'str'>\n",
      "says: <class 'float'>\n",
      "says: <class 'str'>\n",
      "says: <class 'float'>\n",
      "says: <class 'str'>\n",
      "says: <class 'float'>\n",
      "says: <class 'str'>\n",
      "says: <class 'float'>\n",
      "says: <class 'str'>\n",
      "says: <class 'float'>\n",
      "says: <class 'str'>\n",
      "says: <class 'float'>\n",
      "says: <class 'str'>\n",
      "says: <class 'float'>\n",
      "says: <class 'str'>\n",
      "says: <class 'float'>\n",
      "says: <class 'str'>\n",
      "says: <class 'float'>\n",
      "says: <class 'str'>\n",
      "says: <class 'float'>\n",
      "says: <class 'str'>\n",
      "says: <class 'float'>\n",
      "says: <class 'str'>\n",
      "says: <class 'float'>\n",
      "says: <class 'str'>\n",
      "says: <class 'float'>\n",
      "says: <class 'str'>\n",
      "says: <class 'float'>\n",
      "says: <class 'str'>\n",
      "says: <class 'float'>\n",
      "says: <class 'str'>\n",
      "says: <class 'float'>\n",
      "says: <class 'str'>\n",
      "says: <class 'float'>\n",
      "says: <class 'str'>\n",
      "says: <class 'float'>\n",
      "says: <class 'str'>\n",
      "says: <class 'float'>\n",
      "says: <class 'str'>\n",
      "says: <class 'float'>\n",
      "says: <class 'str'>\n",
      "says: <class 'float'>\n",
      "says: <class 'str'>\n",
      "says: <class 'float'>\n",
      "says: <class 'str'>\n",
      "says: <class 'float'>\n",
      "says: <class 'str'>\n",
      "says: <class 'float'>\n",
      "says: <class 'str'>\n",
      "says: <class 'float'>\n",
      "says: <class 'str'>\n",
      "says: <class 'float'>\n",
      "says: <class 'str'>\n",
      "says: <class 'float'>\n",
      "says: <class 'str'>\n",
      "says: <class 'float'>\n",
      "says: <class 'str'>\n",
      "says: <class 'float'>\n",
      "says: <class 'str'>\n",
      "says: <class 'float'>\n",
      "says: <class 'str'>\n",
      "says: <class 'float'>\n",
      "says: <class 'str'>\n",
      "says: <class 'float'>\n",
      "says: <class 'str'>\n",
      "says: <class 'float'>\n",
      "says: <class 'str'>\n",
      "says: <class 'float'>\n",
      "says: <class 'str'>\n",
      "says: <class 'float'>\n",
      "says: <class 'str'>\n",
      "says: <class 'float'>\n",
      "says: <class 'str'>\n",
      "says: <class 'float'>\n",
      "says: <class 'str'>\n",
      "says: <class 'float'>\n",
      "says: <class 'str'>\n",
      "says: <class 'float'>\n",
      "says: <class 'str'>\n",
      "says: <class 'float'>\n",
      "says: <class 'str'>\n",
      "says: <class 'float'>\n",
      "says: <class 'str'>\n",
      "says: <class 'float'>\n",
      "says: <class 'str'>\n",
      "says: <class 'float'>\n",
      "says: <class 'str'>\n",
      "says: <class 'float'>\n",
      "says: <class 'str'>\n",
      "says: <class 'float'>\n",
      "says: <class 'str'>\n",
      "says: <class 'float'>\n",
      "says: <class 'str'>\n",
      "says: <class 'float'>\n",
      "says: <class 'str'>\n",
      "says: <class 'float'>\n",
      "says: <class 'str'>\n",
      "says: <class 'float'>\n",
      "says: <class 'str'>\n",
      "says: <class 'float'>\n",
      "says: <class 'str'>\n",
      "says: <class 'float'>\n",
      "says: <class 'str'>\n",
      "says: <class 'float'>\n",
      "says: <class 'str'>\n",
      "says: <class 'float'>\n",
      "says: <class 'str'>\n",
      "says: <class 'float'>\n",
      "says: <class 'str'>\n",
      "says: <class 'float'>\n",
      "says: <class 'str'>\n",
      "says: <class 'float'>\n",
      "says: <class 'str'>\n",
      "says: <class 'float'>\n",
      "says: <class 'str'>\n",
      "says: <class 'float'>\n",
      "says: <class 'str'>\n",
      "says: <class 'float'>\n",
      "says: <class 'str'>\n",
      "says: <class 'float'>\n",
      "says: <class 'str'>\n",
      "says: <class 'float'>\n",
      "says: <class 'str'>\n",
      "says: <class 'float'>\n",
      "says: <class 'str'>\n",
      "says: <class 'float'>\n",
      "says: <class 'str'>\n",
      "says: <class 'float'>\n"
     ]
    },
    {
     "data": {
      "text/html": [
       "<div>\n",
       "<style scoped>\n",
       "    .dataframe tbody tr th:only-of-type {\n",
       "        vertical-align: middle;\n",
       "    }\n",
       "\n",
       "    .dataframe tbody tr th {\n",
       "        vertical-align: top;\n",
       "    }\n",
       "\n",
       "    .dataframe thead th {\n",
       "        text-align: right;\n",
       "    }\n",
       "</style>\n",
       "<table border=\"1\" class=\"dataframe\">\n",
       "  <thead>\n",
       "    <tr style=\"text-align: right;\">\n",
       "      <th></th>\n",
       "      <th>createTime</th>\n",
       "      <th>education</th>\n",
       "      <th>salary</th>\n",
       "    </tr>\n",
       "  </thead>\n",
       "  <tbody>\n",
       "    <tr>\n",
       "      <th>0</th>\n",
       "      <td>2020-03-16 11:30:18</td>\n",
       "      <td>本科</td>\n",
       "      <td>27500</td>\n",
       "    </tr>\n",
       "    <tr>\n",
       "      <th>1</th>\n",
       "      <td>2020-03-16 10:58:48</td>\n",
       "      <td>本科</td>\n",
       "      <td>30000</td>\n",
       "    </tr>\n",
       "    <tr>\n",
       "      <th>2</th>\n",
       "      <td>2020-03-16 10:46:39</td>\n",
       "      <td>不限</td>\n",
       "      <td>27500</td>\n",
       "    </tr>\n",
       "    <tr>\n",
       "      <th>3</th>\n",
       "      <td>2020-03-16 10:45:44</td>\n",
       "      <td>本科</td>\n",
       "      <td>16500</td>\n",
       "    </tr>\n",
       "    <tr>\n",
       "      <th>4</th>\n",
       "      <td>2020-03-16 10:20:41</td>\n",
       "      <td>本科</td>\n",
       "      <td>15000</td>\n",
       "    </tr>\n",
       "    <tr>\n",
       "      <th>...</th>\n",
       "      <td>...</td>\n",
       "      <td>...</td>\n",
       "      <td>...</td>\n",
       "    </tr>\n",
       "    <tr>\n",
       "      <th>130</th>\n",
       "      <td>2020-03-16 11:36:07</td>\n",
       "      <td>本科</td>\n",
       "      <td>14000</td>\n",
       "    </tr>\n",
       "    <tr>\n",
       "      <th>131</th>\n",
       "      <td>2020-03-16 09:54:47</td>\n",
       "      <td>硕士</td>\n",
       "      <td>37500</td>\n",
       "    </tr>\n",
       "    <tr>\n",
       "      <th>132</th>\n",
       "      <td>2020-03-16 10:48:32</td>\n",
       "      <td>本科</td>\n",
       "      <td>30000</td>\n",
       "    </tr>\n",
       "    <tr>\n",
       "      <th>133</th>\n",
       "      <td>2020-03-16 10:46:31</td>\n",
       "      <td>本科</td>\n",
       "      <td>19000</td>\n",
       "    </tr>\n",
       "    <tr>\n",
       "      <th>134</th>\n",
       "      <td>2020-03-16 11:19:38</td>\n",
       "      <td>本科</td>\n",
       "      <td>30000</td>\n",
       "    </tr>\n",
       "  </tbody>\n",
       "</table>\n",
       "<p>135 rows × 3 columns</p>\n",
       "</div>"
      ],
      "text/plain": [
       "             createTime education salary\n",
       "0   2020-03-16 11:30:18        本科  27500\n",
       "1   2020-03-16 10:58:48        本科  30000\n",
       "2   2020-03-16 10:46:39        不限  27500\n",
       "3   2020-03-16 10:45:44        本科  16500\n",
       "4   2020-03-16 10:20:41        本科  15000\n",
       "..                  ...       ...    ...\n",
       "130 2020-03-16 11:36:07        本科  14000\n",
       "131 2020-03-16 09:54:47        硕士  37500\n",
       "132 2020-03-16 10:48:32        本科  30000\n",
       "133 2020-03-16 10:46:31        本科  19000\n",
       "134 2020-03-16 11:19:38        本科  30000\n",
       "\n",
       "[135 rows x 3 columns]"
      ]
     },
     "execution_count": 261,
     "metadata": {},
     "output_type": "execute_result"
    }
   ],
   "source": [
    "for i in range(0,len(df['salary'])):\n",
    "    print('says:',type(df.iloc[i,2]))\n",
    "    list_temp=re.findall(r'\\d+\\.?\\d*',df.iloc[i,2])\n",
    "    df.iloc[i,2]=((float(list_temp[0])+float(list_temp[1]))/2)*1000\n",
    "    print('says:',type(df.iloc[i,2]))\n",
    "df"
   ]
  },
  {
   "cell_type": "markdown",
   "metadata": {},
   "source": [
    "# 24.数据分组\n",
    "将数据根据学历进行分组并计算平均薪资"
   ]
  },
  {
   "cell_type": "code",
   "execution_count": 264,
   "metadata": {},
   "outputs": [
    {
     "data": {
      "text/html": [
       "<div>\n",
       "<style scoped>\n",
       "    .dataframe tbody tr th:only-of-type {\n",
       "        vertical-align: middle;\n",
       "    }\n",
       "\n",
       "    .dataframe tbody tr th {\n",
       "        vertical-align: top;\n",
       "    }\n",
       "\n",
       "    .dataframe thead tr th {\n",
       "        text-align: left;\n",
       "    }\n",
       "\n",
       "    .dataframe thead tr:last-of-type th {\n",
       "        text-align: right;\n",
       "    }\n",
       "</style>\n",
       "<table border=\"1\" class=\"dataframe\">\n",
       "  <thead>\n",
       "    <tr>\n",
       "      <th></th>\n",
       "      <th colspan=\"3\" halign=\"left\">salary</th>\n",
       "    </tr>\n",
       "    <tr>\n",
       "      <th></th>\n",
       "      <th>mean</th>\n",
       "      <th>max</th>\n",
       "      <th>min</th>\n",
       "    </tr>\n",
       "    <tr>\n",
       "      <th>education</th>\n",
       "      <th></th>\n",
       "      <th></th>\n",
       "      <th></th>\n",
       "    </tr>\n",
       "  </thead>\n",
       "  <tbody>\n",
       "    <tr>\n",
       "      <th>不限</th>\n",
       "      <td>19600.000000</td>\n",
       "      <td>30000.0</td>\n",
       "      <td>3500.0</td>\n",
       "    </tr>\n",
       "    <tr>\n",
       "      <th>大专</th>\n",
       "      <td>10000.000000</td>\n",
       "      <td>15000.0</td>\n",
       "      <td>5000.0</td>\n",
       "    </tr>\n",
       "    <tr>\n",
       "      <th>本科</th>\n",
       "      <td>19361.344538</td>\n",
       "      <td>45000.0</td>\n",
       "      <td>3500.0</td>\n",
       "    </tr>\n",
       "    <tr>\n",
       "      <th>硕士</th>\n",
       "      <td>20642.857143</td>\n",
       "      <td>37500.0</td>\n",
       "      <td>12500.0</td>\n",
       "    </tr>\n",
       "  </tbody>\n",
       "</table>\n",
       "</div>"
      ],
      "text/plain": [
       "                 salary                  \n",
       "                   mean      max      min\n",
       "education                                \n",
       "不限         19600.000000  30000.0   3500.0\n",
       "大专         10000.000000  15000.0   5000.0\n",
       "本科         19361.344538  45000.0   3500.0\n",
       "硕士         20642.857143  37500.0  12500.0"
      ]
     },
     "execution_count": 264,
     "metadata": {},
     "output_type": "execute_result"
    }
   ],
   "source": [
    "# df.groupby('education')\n",
    "df['salary']=df['salary'].astype(float)\n",
    "# df.groupby('education').mean()\n",
    "df.groupby('education').mean().reset_index() #加入索引\n",
    "\n",
    "# 扩展\n",
    "df.groupby('education').agg(['mean','max','min'])"
   ]
  },
  {
   "cell_type": "markdown",
   "metadata": {},
   "source": [
    "# 25.时间转换\n",
    "将create Time列时间转换为月-日"
   ]
  },
  {
   "cell_type": "code",
   "execution_count": 119,
   "metadata": {},
   "outputs": [],
   "source": [
    "from datetime import datetime"
   ]
  },
  {
   "cell_type": "code",
   "execution_count": 134,
   "metadata": {},
   "outputs": [
    {
     "data": {
      "text/html": [
       "<div>\n",
       "<style scoped>\n",
       "    .dataframe tbody tr th:only-of-type {\n",
       "        vertical-align: middle;\n",
       "    }\n",
       "\n",
       "    .dataframe tbody tr th {\n",
       "        vertical-align: top;\n",
       "    }\n",
       "\n",
       "    .dataframe thead th {\n",
       "        text-align: right;\n",
       "    }\n",
       "</style>\n",
       "<table border=\"1\" class=\"dataframe\">\n",
       "  <thead>\n",
       "    <tr style=\"text-align: right;\">\n",
       "      <th></th>\n",
       "      <th>createTime</th>\n",
       "      <th>education</th>\n",
       "      <th>salary</th>\n",
       "    </tr>\n",
       "  </thead>\n",
       "  <tbody>\n",
       "    <tr>\n",
       "      <th>0</th>\n",
       "      <td>2020-03-16 11:30:18</td>\n",
       "      <td>本科</td>\n",
       "      <td>27500.0</td>\n",
       "    </tr>\n",
       "    <tr>\n",
       "      <th>1</th>\n",
       "      <td>2020-03-16 10:58:48</td>\n",
       "      <td>本科</td>\n",
       "      <td>30000.0</td>\n",
       "    </tr>\n",
       "    <tr>\n",
       "      <th>2</th>\n",
       "      <td>2020-03-16 10:46:39</td>\n",
       "      <td>不限</td>\n",
       "      <td>27500.0</td>\n",
       "    </tr>\n",
       "    <tr>\n",
       "      <th>3</th>\n",
       "      <td>2020-03-16 10:45:44</td>\n",
       "      <td>本科</td>\n",
       "      <td>16500.0</td>\n",
       "    </tr>\n",
       "    <tr>\n",
       "      <th>4</th>\n",
       "      <td>2020-03-16 10:20:41</td>\n",
       "      <td>本科</td>\n",
       "      <td>15000.0</td>\n",
       "    </tr>\n",
       "    <tr>\n",
       "      <th>...</th>\n",
       "      <td>...</td>\n",
       "      <td>...</td>\n",
       "      <td>...</td>\n",
       "    </tr>\n",
       "    <tr>\n",
       "      <th>130</th>\n",
       "      <td>2020-03-16 11:36:07</td>\n",
       "      <td>本科</td>\n",
       "      <td>14000.0</td>\n",
       "    </tr>\n",
       "    <tr>\n",
       "      <th>131</th>\n",
       "      <td>2020-03-16 09:54:47</td>\n",
       "      <td>硕士</td>\n",
       "      <td>37500.0</td>\n",
       "    </tr>\n",
       "    <tr>\n",
       "      <th>132</th>\n",
       "      <td>2020-03-16 10:48:32</td>\n",
       "      <td>本科</td>\n",
       "      <td>30000.0</td>\n",
       "    </tr>\n",
       "    <tr>\n",
       "      <th>133</th>\n",
       "      <td>2020-03-16 10:46:31</td>\n",
       "      <td>本科</td>\n",
       "      <td>19000.0</td>\n",
       "    </tr>\n",
       "    <tr>\n",
       "      <th>134</th>\n",
       "      <td>2020-03-16 11:19:38</td>\n",
       "      <td>本科</td>\n",
       "      <td>30000.0</td>\n",
       "    </tr>\n",
       "  </tbody>\n",
       "</table>\n",
       "<p>135 rows × 3 columns</p>\n",
       "</div>"
      ],
      "text/plain": [
       "             createTime education   salary\n",
       "0   2020-03-16 11:30:18        本科  27500.0\n",
       "1   2020-03-16 10:58:48        本科  30000.0\n",
       "2   2020-03-16 10:46:39        不限  27500.0\n",
       "3   2020-03-16 10:45:44        本科  16500.0\n",
       "4   2020-03-16 10:20:41        本科  15000.0\n",
       "..                  ...       ...      ...\n",
       "130 2020-03-16 11:36:07        本科  14000.0\n",
       "131 2020-03-16 09:54:47        硕士  37500.0\n",
       "132 2020-03-16 10:48:32        本科  30000.0\n",
       "133 2020-03-16 10:46:31        本科  19000.0\n",
       "134 2020-03-16 11:19:38        本科  30000.0\n",
       "\n",
       "[135 rows x 3 columns]"
      ]
     },
     "execution_count": 134,
     "metadata": {},
     "output_type": "execute_result"
    }
   ],
   "source": [
    "datetime.now()\n",
    "df"
   ]
  },
  {
   "cell_type": "code",
   "execution_count": 156,
   "metadata": {},
   "outputs": [
    {
     "data": {
      "text/plain": [
       "Timestamp('2020-03-16 10:45:44')"
      ]
     },
     "execution_count": 156,
     "metadata": {},
     "output_type": "execute_result"
    }
   ],
   "source": [
    "df['createTime'].iloc[0] #Timestamp('2020-03-16 11:30:18')\n",
    "\n",
    "# 方法1\n",
    "# str(df['createTime'].iloc[0]) #强制转换为字符串类型'2020-03-16 11:30:18'\n",
    "# str(df['createTime'].iloc[0])[5:10] #切片得到第索引为5到9的字符'03-16'，只能对str类型使用\n",
    "# str(df['createTime'].iloc[0])[:7] #得到前7个字符\n",
    "\n",
    "# 方法2\n",
    "# df['createTime'].iloc[0].strftime('%Y-%m-%d') #时间转字符串类型'2020-03-16'\n",
    "df['createTime'].iloc[0].to_pydatetime() #datetime.datetime(2020, 3, 16, 11, 30, 18)\n",
    "pd.to_datetime(df['createTime'].iloc[3],format='%Y-%m-%d') #Timestamp('2020-03-16 10:45:44')\n",
    "# datetime.strptime('2020-04-06','%Y-%m-%d') #字符串转时间类型datetime.datetime(2020, 4, 6, 0, 0)"
   ]
  },
  {
   "cell_type": "code",
   "execution_count": 262,
   "metadata": {},
   "outputs": [
    {
     "data": {
      "text/html": [
       "<div>\n",
       "<style scoped>\n",
       "    .dataframe tbody tr th:only-of-type {\n",
       "        vertical-align: middle;\n",
       "    }\n",
       "\n",
       "    .dataframe tbody tr th {\n",
       "        vertical-align: top;\n",
       "    }\n",
       "\n",
       "    .dataframe thead th {\n",
       "        text-align: right;\n",
       "    }\n",
       "</style>\n",
       "<table border=\"1\" class=\"dataframe\">\n",
       "  <thead>\n",
       "    <tr style=\"text-align: right;\">\n",
       "      <th></th>\n",
       "      <th>createTime</th>\n",
       "      <th>education</th>\n",
       "      <th>salary</th>\n",
       "    </tr>\n",
       "  </thead>\n",
       "  <tbody>\n",
       "    <tr>\n",
       "      <th>0</th>\n",
       "      <td>03-16</td>\n",
       "      <td>本科</td>\n",
       "      <td>27500</td>\n",
       "    </tr>\n",
       "    <tr>\n",
       "      <th>1</th>\n",
       "      <td>03-16</td>\n",
       "      <td>本科</td>\n",
       "      <td>30000</td>\n",
       "    </tr>\n",
       "    <tr>\n",
       "      <th>2</th>\n",
       "      <td>03-16</td>\n",
       "      <td>不限</td>\n",
       "      <td>27500</td>\n",
       "    </tr>\n",
       "    <tr>\n",
       "      <th>3</th>\n",
       "      <td>03-16</td>\n",
       "      <td>本科</td>\n",
       "      <td>16500</td>\n",
       "    </tr>\n",
       "    <tr>\n",
       "      <th>4</th>\n",
       "      <td>03-16</td>\n",
       "      <td>本科</td>\n",
       "      <td>15000</td>\n",
       "    </tr>\n",
       "    <tr>\n",
       "      <th>...</th>\n",
       "      <td>...</td>\n",
       "      <td>...</td>\n",
       "      <td>...</td>\n",
       "    </tr>\n",
       "    <tr>\n",
       "      <th>130</th>\n",
       "      <td>03-16</td>\n",
       "      <td>本科</td>\n",
       "      <td>14000</td>\n",
       "    </tr>\n",
       "    <tr>\n",
       "      <th>131</th>\n",
       "      <td>03-16</td>\n",
       "      <td>硕士</td>\n",
       "      <td>37500</td>\n",
       "    </tr>\n",
       "    <tr>\n",
       "      <th>132</th>\n",
       "      <td>03-16</td>\n",
       "      <td>本科</td>\n",
       "      <td>30000</td>\n",
       "    </tr>\n",
       "    <tr>\n",
       "      <th>133</th>\n",
       "      <td>03-16</td>\n",
       "      <td>本科</td>\n",
       "      <td>19000</td>\n",
       "    </tr>\n",
       "    <tr>\n",
       "      <th>134</th>\n",
       "      <td>03-16</td>\n",
       "      <td>本科</td>\n",
       "      <td>30000</td>\n",
       "    </tr>\n",
       "  </tbody>\n",
       "</table>\n",
       "<p>135 rows × 3 columns</p>\n",
       "</div>"
      ],
      "text/plain": [
       "    createTime education salary\n",
       "0        03-16        本科  27500\n",
       "1        03-16        本科  30000\n",
       "2        03-16        不限  27500\n",
       "3        03-16        本科  16500\n",
       "4        03-16        本科  15000\n",
       "..         ...       ...    ...\n",
       "130      03-16        本科  14000\n",
       "131      03-16        硕士  37500\n",
       "132      03-16        本科  30000\n",
       "133      03-16        本科  19000\n",
       "134      03-16        本科  30000\n",
       "\n",
       "[135 rows x 3 columns]"
      ]
     },
     "execution_count": 262,
     "metadata": {},
     "output_type": "execute_result"
    }
   ],
   "source": [
    "for i in range(0,len(df)):\n",
    "    df.iloc[i,0]=str(df['createTime'].iloc[i])[5:10]\n",
    "df"
   ]
  },
  {
   "cell_type": "markdown",
   "metadata": {},
   "source": [
    "# 26.数据查看\n",
    "查看索引、数据类型和内存信息"
   ]
  },
  {
   "cell_type": "code",
   "execution_count": 265,
   "metadata": {},
   "outputs": [
    {
     "name": "stdout",
     "output_type": "stream",
     "text": [
      "<class 'pandas.core.frame.DataFrame'>\n",
      "RangeIndex: 135 entries, 0 to 134\n",
      "Data columns (total 3 columns):\n",
      " #   Column      Non-Null Count  Dtype  \n",
      "---  ------      --------------  -----  \n",
      " 0   createTime  135 non-null    object \n",
      " 1   education   135 non-null    object \n",
      " 2   salary      135 non-null    float64\n",
      "dtypes: float64(1), object(2)\n",
      "memory usage: 3.3+ KB\n"
     ]
    },
    {
     "data": {
      "text/plain": [
       "createTime     object\n",
       "education      object\n",
       "salary        float64\n",
       "dtype: object"
      ]
     },
     "execution_count": 265,
     "metadata": {},
     "output_type": "execute_result"
    }
   ],
   "source": [
    "df.info() #索引、数据类型和内存信息\n",
    "df.shape #查看数据行列数\n",
    "df.dtypes #查看每列的数据类型"
   ]
  },
  {
   "cell_type": "markdown",
   "metadata": {},
   "source": [
    "# 27.数据查看\n",
    "查看数值型列的汇总统计"
   ]
  },
  {
   "cell_type": "code",
   "execution_count": 162,
   "metadata": {},
   "outputs": [
    {
     "data": {
      "text/html": [
       "<div>\n",
       "<style scoped>\n",
       "    .dataframe tbody tr th:only-of-type {\n",
       "        vertical-align: middle;\n",
       "    }\n",
       "\n",
       "    .dataframe tbody tr th {\n",
       "        vertical-align: top;\n",
       "    }\n",
       "\n",
       "    .dataframe thead th {\n",
       "        text-align: right;\n",
       "    }\n",
       "</style>\n",
       "<table border=\"1\" class=\"dataframe\">\n",
       "  <thead>\n",
       "    <tr style=\"text-align: right;\">\n",
       "      <th></th>\n",
       "      <th>salary</th>\n",
       "    </tr>\n",
       "  </thead>\n",
       "  <tbody>\n",
       "    <tr>\n",
       "      <th>count</th>\n",
       "      <td>135.000000</td>\n",
       "    </tr>\n",
       "    <tr>\n",
       "      <th>mean</th>\n",
       "      <td>19159.259259</td>\n",
       "    </tr>\n",
       "    <tr>\n",
       "      <th>std</th>\n",
       "      <td>8661.686922</td>\n",
       "    </tr>\n",
       "    <tr>\n",
       "      <th>min</th>\n",
       "      <td>3500.000000</td>\n",
       "    </tr>\n",
       "    <tr>\n",
       "      <th>25%</th>\n",
       "      <td>14000.000000</td>\n",
       "    </tr>\n",
       "    <tr>\n",
       "      <th>50%</th>\n",
       "      <td>17500.000000</td>\n",
       "    </tr>\n",
       "    <tr>\n",
       "      <th>75%</th>\n",
       "      <td>25000.000000</td>\n",
       "    </tr>\n",
       "    <tr>\n",
       "      <th>max</th>\n",
       "      <td>45000.000000</td>\n",
       "    </tr>\n",
       "  </tbody>\n",
       "</table>\n",
       "</div>"
      ],
      "text/plain": [
       "             salary\n",
       "count    135.000000\n",
       "mean   19159.259259\n",
       "std     8661.686922\n",
       "min     3500.000000\n",
       "25%    14000.000000\n",
       "50%    17500.000000\n",
       "75%    25000.000000\n",
       "max    45000.000000"
      ]
     },
     "execution_count": 162,
     "metadata": {},
     "output_type": "execute_result"
    }
   ],
   "source": [
    "df.describe() #可计算数值信息"
   ]
  },
  {
   "cell_type": "markdown",
   "metadata": {},
   "source": [
    "# 28.数据整理\n",
    "新增一列根据salary将数据分为三组"
   ]
  },
  {
   "cell_type": "code",
   "execution_count": 236,
   "metadata": {},
   "outputs": [
    {
     "data": {
      "text/html": [
       "<div>\n",
       "<style scoped>\n",
       "    .dataframe tbody tr th:only-of-type {\n",
       "        vertical-align: middle;\n",
       "    }\n",
       "\n",
       "    .dataframe tbody tr th {\n",
       "        vertical-align: top;\n",
       "    }\n",
       "\n",
       "    .dataframe thead th {\n",
       "        text-align: right;\n",
       "    }\n",
       "</style>\n",
       "<table border=\"1\" class=\"dataframe\">\n",
       "  <thead>\n",
       "    <tr style=\"text-align: right;\">\n",
       "      <th></th>\n",
       "      <th>createTime</th>\n",
       "      <th>education</th>\n",
       "      <th>salary</th>\n",
       "      <th>categories</th>\n",
       "    </tr>\n",
       "  </thead>\n",
       "  <tbody>\n",
       "    <tr>\n",
       "      <th>0</th>\n",
       "      <td>03-16</td>\n",
       "      <td>本科</td>\n",
       "      <td>27500</td>\n",
       "      <td>高</td>\n",
       "    </tr>\n",
       "    <tr>\n",
       "      <th>1</th>\n",
       "      <td>03-16</td>\n",
       "      <td>本科</td>\n",
       "      <td>30000</td>\n",
       "      <td>高</td>\n",
       "    </tr>\n",
       "    <tr>\n",
       "      <th>2</th>\n",
       "      <td>03-16</td>\n",
       "      <td>不限</td>\n",
       "      <td>27500</td>\n",
       "      <td>高</td>\n",
       "    </tr>\n",
       "    <tr>\n",
       "      <th>3</th>\n",
       "      <td>03-16</td>\n",
       "      <td>本科</td>\n",
       "      <td>16500</td>\n",
       "      <td>中</td>\n",
       "    </tr>\n",
       "    <tr>\n",
       "      <th>4</th>\n",
       "      <td>03-16</td>\n",
       "      <td>本科</td>\n",
       "      <td>15000</td>\n",
       "      <td>中</td>\n",
       "    </tr>\n",
       "    <tr>\n",
       "      <th>...</th>\n",
       "      <td>...</td>\n",
       "      <td>...</td>\n",
       "      <td>...</td>\n",
       "      <td>...</td>\n",
       "    </tr>\n",
       "    <tr>\n",
       "      <th>130</th>\n",
       "      <td>03-16</td>\n",
       "      <td>本科</td>\n",
       "      <td>14000</td>\n",
       "      <td>中</td>\n",
       "    </tr>\n",
       "    <tr>\n",
       "      <th>131</th>\n",
       "      <td>03-16</td>\n",
       "      <td>硕士</td>\n",
       "      <td>37500</td>\n",
       "      <td>高</td>\n",
       "    </tr>\n",
       "    <tr>\n",
       "      <th>132</th>\n",
       "      <td>03-16</td>\n",
       "      <td>本科</td>\n",
       "      <td>30000</td>\n",
       "      <td>高</td>\n",
       "    </tr>\n",
       "    <tr>\n",
       "      <th>133</th>\n",
       "      <td>03-16</td>\n",
       "      <td>本科</td>\n",
       "      <td>19000</td>\n",
       "      <td>中</td>\n",
       "    </tr>\n",
       "    <tr>\n",
       "      <th>134</th>\n",
       "      <td>03-16</td>\n",
       "      <td>本科</td>\n",
       "      <td>30000</td>\n",
       "      <td>高</td>\n",
       "    </tr>\n",
       "  </tbody>\n",
       "</table>\n",
       "<p>135 rows × 4 columns</p>\n",
       "</div>"
      ],
      "text/plain": [
       "    createTime education salary categories\n",
       "0        03-16        本科  27500          高\n",
       "1        03-16        本科  30000          高\n",
       "2        03-16        不限  27500          高\n",
       "3        03-16        本科  16500          中\n",
       "4        03-16        本科  15000          中\n",
       "..         ...       ...    ...        ...\n",
       "130      03-16        本科  14000          中\n",
       "131      03-16        硕士  37500          高\n",
       "132      03-16        本科  30000          高\n",
       "133      03-16        本科  19000          中\n",
       "134      03-16        本科  30000          高\n",
       "\n",
       "[135 rows x 4 columns]"
      ]
     },
     "execution_count": 236,
     "metadata": {},
     "output_type": "execute_result"
    }
   ],
   "source": [
    "# cut将根据值本身来选择箱子均匀间隔，qcut是根据这些值的频率来选择箱子的均匀间隔\n",
    "\n",
    "# 等深分箱(长度相同)\n",
    "# pd.cut(df.salary,3)\n",
    "# pd.cut(df.salary,3).value_counts\n",
    "bins=[0,5000,20000,50000]\n",
    "df['categories']=pd.cut(df.salary,bins,labels=['低','中','高'])\n",
    "\n",
    "# 等高分箱(数量相同)\n",
    "# pd.qcut(df.salary,3).value_counts\n",
    "df"
   ]
  },
  {
   "cell_type": "markdown",
   "metadata": {},
   "source": [
    "# 29.数据整理\n",
    "按照salary列对数据降序排列"
   ]
  },
  {
   "cell_type": "code",
   "execution_count": 175,
   "metadata": {},
   "outputs": [
    {
     "data": {
      "text/html": [
       "<div>\n",
       "<style scoped>\n",
       "    .dataframe tbody tr th:only-of-type {\n",
       "        vertical-align: middle;\n",
       "    }\n",
       "\n",
       "    .dataframe tbody tr th {\n",
       "        vertical-align: top;\n",
       "    }\n",
       "\n",
       "    .dataframe thead th {\n",
       "        text-align: right;\n",
       "    }\n",
       "</style>\n",
       "<table border=\"1\" class=\"dataframe\">\n",
       "  <thead>\n",
       "    <tr style=\"text-align: right;\">\n",
       "      <th></th>\n",
       "      <th>createTime</th>\n",
       "      <th>education</th>\n",
       "      <th>salary</th>\n",
       "      <th>categories</th>\n",
       "    </tr>\n",
       "  </thead>\n",
       "  <tbody>\n",
       "    <tr>\n",
       "      <th>53</th>\n",
       "      <td>03-16</td>\n",
       "      <td>本科</td>\n",
       "      <td>45000.0</td>\n",
       "      <td>高</td>\n",
       "    </tr>\n",
       "    <tr>\n",
       "      <th>37</th>\n",
       "      <td>03-16</td>\n",
       "      <td>本科</td>\n",
       "      <td>40000.0</td>\n",
       "      <td>高</td>\n",
       "    </tr>\n",
       "    <tr>\n",
       "      <th>101</th>\n",
       "      <td>03-16</td>\n",
       "      <td>本科</td>\n",
       "      <td>37500.0</td>\n",
       "      <td>高</td>\n",
       "    </tr>\n",
       "    <tr>\n",
       "      <th>16</th>\n",
       "      <td>03-16</td>\n",
       "      <td>本科</td>\n",
       "      <td>37500.0</td>\n",
       "      <td>高</td>\n",
       "    </tr>\n",
       "    <tr>\n",
       "      <th>131</th>\n",
       "      <td>03-16</td>\n",
       "      <td>硕士</td>\n",
       "      <td>37500.0</td>\n",
       "      <td>高</td>\n",
       "    </tr>\n",
       "    <tr>\n",
       "      <th>...</th>\n",
       "      <td>...</td>\n",
       "      <td>...</td>\n",
       "      <td>...</td>\n",
       "      <td>...</td>\n",
       "    </tr>\n",
       "    <tr>\n",
       "      <th>123</th>\n",
       "      <td>03-16</td>\n",
       "      <td>本科</td>\n",
       "      <td>4500.0</td>\n",
       "      <td>低</td>\n",
       "    </tr>\n",
       "    <tr>\n",
       "      <th>126</th>\n",
       "      <td>03-16</td>\n",
       "      <td>本科</td>\n",
       "      <td>4000.0</td>\n",
       "      <td>低</td>\n",
       "    </tr>\n",
       "    <tr>\n",
       "      <th>110</th>\n",
       "      <td>03-16</td>\n",
       "      <td>本科</td>\n",
       "      <td>4000.0</td>\n",
       "      <td>低</td>\n",
       "    </tr>\n",
       "    <tr>\n",
       "      <th>96</th>\n",
       "      <td>03-16</td>\n",
       "      <td>不限</td>\n",
       "      <td>3500.0</td>\n",
       "      <td>低</td>\n",
       "    </tr>\n",
       "    <tr>\n",
       "      <th>113</th>\n",
       "      <td>03-16</td>\n",
       "      <td>本科</td>\n",
       "      <td>3500.0</td>\n",
       "      <td>低</td>\n",
       "    </tr>\n",
       "  </tbody>\n",
       "</table>\n",
       "<p>135 rows × 4 columns</p>\n",
       "</div>"
      ],
      "text/plain": [
       "    createTime education   salary categories\n",
       "53       03-16        本科  45000.0          高\n",
       "37       03-16        本科  40000.0          高\n",
       "101      03-16        本科  37500.0          高\n",
       "16       03-16        本科  37500.0          高\n",
       "131      03-16        硕士  37500.0          高\n",
       "..         ...       ...      ...        ...\n",
       "123      03-16        本科   4500.0          低\n",
       "126      03-16        本科   4000.0          低\n",
       "110      03-16        本科   4000.0          低\n",
       "96       03-16        不限   3500.0          低\n",
       "113      03-16        本科   3500.0          低\n",
       "\n",
       "[135 rows x 4 columns]"
      ]
     },
     "execution_count": 175,
     "metadata": {},
     "output_type": "execute_result"
    }
   ],
   "source": [
    "df['salary'].sort_values() #升序\n",
    "df['salary'].sort_values(ascending=False)\n",
    "df.sort_values('salary',ascending=False)"
   ]
  },
  {
   "cell_type": "markdown",
   "metadata": {},
   "source": [
    "# 30.数据提取\n",
    "取出第33行数据"
   ]
  },
  {
   "cell_type": "code",
   "execution_count": 176,
   "metadata": {},
   "outputs": [
    {
     "data": {
      "text/plain": [
       "createTime    03-16\n",
       "education        硕士\n",
       "salary        22500\n",
       "categories        高\n",
       "Name: 32, dtype: object"
      ]
     },
     "execution_count": 176,
     "metadata": {},
     "output_type": "execute_result"
    }
   ],
   "source": [
    "df.iloc[32]"
   ]
  },
  {
   "cell_type": "markdown",
   "metadata": {},
   "source": [
    "# 31.数据计算 \n",
    "计算salary列的中位数"
   ]
  },
  {
   "cell_type": "code",
   "execution_count": 178,
   "metadata": {},
   "outputs": [
    {
     "data": {
      "text/plain": [
       "salary    17500.0\n",
       "dtype: float64"
      ]
     },
     "execution_count": 178,
     "metadata": {},
     "output_type": "execute_result"
    }
   ],
   "source": [
    "np.median(df['salary'])\n",
    "df.median()"
   ]
  },
  {
   "cell_type": "markdown",
   "metadata": {},
   "source": [
    "# 32.数据可视化\n",
    "绘制薪资水平频率分布直方图"
   ]
  },
  {
   "cell_type": "code",
   "execution_count": 180,
   "metadata": {},
   "outputs": [],
   "source": [
    "import matplotlib.pyplot as plt\n",
    "\n",
    "# 设置中文\n",
    "plt.rcParams['font.sans-serif']=['FangSong']"
   ]
  },
  {
   "cell_type": "code",
   "execution_count": 181,
   "metadata": {},
   "outputs": [
    {
     "data": {
      "text/plain": [
       "<matplotlib.axes._subplots.AxesSubplot at 0x226306167b8>"
      ]
     },
     "execution_count": 181,
     "metadata": {},
     "output_type": "execute_result"
    },
    {
     "data": {
      "image/png": "[encoded data removed]",
      "text/plain": [
       "<Figure size 432x288 with 1 Axes>"
      ]
     },
     "metadata": {},
     "output_type": "display_data"
    }
   ],
   "source": [
    "df['salary'].plot() #默认折线图"
   ]
  },
  {
   "cell_type": "code",
   "execution_count": 182,
   "metadata": {},
   "outputs": [
    {
     "data": {
      "text/plain": [
       "<matplotlib.axes._subplots.AxesSubplot at 0x22630d35400>"
      ]
     },
     "execution_count": 182,
     "metadata": {},
     "output_type": "execute_result"
    },
    {
     "data": {
      "image/png": "[encoded data removed]",
      "text/plain": [
       "<Figure size 432x288 with 1 Axes>"
      ]
     },
     "metadata": {},
     "output_type": "display_data"
    }
   ],
   "source": [
    "df['salary'].plot(kind='hist')"
   ]
  },
  {
   "cell_type": "markdown",
   "metadata": {},
   "source": [
    "# 33.数据可视化\n",
    "绘制薪资水平密度曲线"
   ]
  },
  {
   "cell_type": "code",
   "execution_count": 184,
   "metadata": {},
   "outputs": [
    {
     "data": {
      "text/plain": [
       "<matplotlib.axes._subplots.AxesSubplot at 0x22632788ef0>"
      ]
     },
     "execution_count": 184,
     "metadata": {},
     "output_type": "execute_result"
    },
    {
     "name": "stderr",
     "output_type": "stream",
     "text": [
      "C:\\Users\\lenovo\\Anaconda3\\lib\\site-packages\\matplotlib\\backends\\backend_agg.py:214: RuntimeWarning: Glyph 8722 missing from current font.\n",
      "  font.set_text(s, 0.0, flags=flags)\n",
      "C:\\Users\\lenovo\\Anaconda3\\lib\\site-packages\\matplotlib\\backends\\backend_agg.py:183: RuntimeWarning: Glyph 8722 missing from current font.\n",
      "  font.set_text(s, 0, flags=flags)\n"
     ]
    },
    {
     "data": {
      "image/png": "[encoded data removed]",
      "text/plain": [
       "<Figure size 432x288 with 1 Axes>"
      ]
     },
     "metadata": {},
     "output_type": "display_data"
    }
   ],
   "source": [
    "df['salary'].plot(kind='kde',xlim=(0,70000)) #x轴范围为0到70000"
   ]
  },
  {
   "cell_type": "markdown",
   "metadata": {},
   "source": [
    "# 34.数据删除\n",
    "删除最后一列categories"
   ]
  },
  {
   "cell_type": "code",
   "execution_count": 237,
   "metadata": {},
   "outputs": [
    {
     "data": {
      "text/html": [
       "<div>\n",
       "<style scoped>\n",
       "    .dataframe tbody tr th:only-of-type {\n",
       "        vertical-align: middle;\n",
       "    }\n",
       "\n",
       "    .dataframe tbody tr th {\n",
       "        vertical-align: top;\n",
       "    }\n",
       "\n",
       "    .dataframe thead th {\n",
       "        text-align: right;\n",
       "    }\n",
       "</style>\n",
       "<table border=\"1\" class=\"dataframe\">\n",
       "  <thead>\n",
       "    <tr style=\"text-align: right;\">\n",
       "      <th></th>\n",
       "      <th>createTime</th>\n",
       "      <th>education</th>\n",
       "      <th>salary</th>\n",
       "      <th>categories</th>\n",
       "    </tr>\n",
       "  </thead>\n",
       "  <tbody>\n",
       "    <tr>\n",
       "      <th>0</th>\n",
       "      <td>03-16</td>\n",
       "      <td>本科</td>\n",
       "      <td>27500</td>\n",
       "      <td>高</td>\n",
       "    </tr>\n",
       "    <tr>\n",
       "      <th>1</th>\n",
       "      <td>03-16</td>\n",
       "      <td>本科</td>\n",
       "      <td>30000</td>\n",
       "      <td>高</td>\n",
       "    </tr>\n",
       "    <tr>\n",
       "      <th>2</th>\n",
       "      <td>03-16</td>\n",
       "      <td>不限</td>\n",
       "      <td>27500</td>\n",
       "      <td>高</td>\n",
       "    </tr>\n",
       "    <tr>\n",
       "      <th>3</th>\n",
       "      <td>03-16</td>\n",
       "      <td>本科</td>\n",
       "      <td>16500</td>\n",
       "      <td>中</td>\n",
       "    </tr>\n",
       "    <tr>\n",
       "      <th>4</th>\n",
       "      <td>03-16</td>\n",
       "      <td>本科</td>\n",
       "      <td>15000</td>\n",
       "      <td>中</td>\n",
       "    </tr>\n",
       "    <tr>\n",
       "      <th>...</th>\n",
       "      <td>...</td>\n",
       "      <td>...</td>\n",
       "      <td>...</td>\n",
       "      <td>...</td>\n",
       "    </tr>\n",
       "    <tr>\n",
       "      <th>130</th>\n",
       "      <td>03-16</td>\n",
       "      <td>本科</td>\n",
       "      <td>14000</td>\n",
       "      <td>中</td>\n",
       "    </tr>\n",
       "    <tr>\n",
       "      <th>131</th>\n",
       "      <td>03-16</td>\n",
       "      <td>硕士</td>\n",
       "      <td>37500</td>\n",
       "      <td>高</td>\n",
       "    </tr>\n",
       "    <tr>\n",
       "      <th>132</th>\n",
       "      <td>03-16</td>\n",
       "      <td>本科</td>\n",
       "      <td>30000</td>\n",
       "      <td>高</td>\n",
       "    </tr>\n",
       "    <tr>\n",
       "      <th>133</th>\n",
       "      <td>03-16</td>\n",
       "      <td>本科</td>\n",
       "      <td>19000</td>\n",
       "      <td>中</td>\n",
       "    </tr>\n",
       "    <tr>\n",
       "      <th>134</th>\n",
       "      <td>03-16</td>\n",
       "      <td>本科</td>\n",
       "      <td>30000</td>\n",
       "      <td>高</td>\n",
       "    </tr>\n",
       "  </tbody>\n",
       "</table>\n",
       "<p>135 rows × 4 columns</p>\n",
       "</div>"
      ],
      "text/plain": [
       "    createTime education salary categories\n",
       "0        03-16        本科  27500          高\n",
       "1        03-16        本科  30000          高\n",
       "2        03-16        不限  27500          高\n",
       "3        03-16        本科  16500          中\n",
       "4        03-16        本科  15000          中\n",
       "..         ...       ...    ...        ...\n",
       "130      03-16        本科  14000          中\n",
       "131      03-16        硕士  37500          高\n",
       "132      03-16        本科  30000          高\n",
       "133      03-16        本科  19000          中\n",
       "134      03-16        本科  30000          高\n",
       "\n",
       "[135 rows x 4 columns]"
      ]
     },
     "execution_count": 237,
     "metadata": {},
     "output_type": "execute_result"
    }
   ],
   "source": [
    "df"
   ]
  },
  {
   "cell_type": "code",
   "execution_count": 238,
   "metadata": {},
   "outputs": [],
   "source": [
    "del df['categories']"
   ]
  },
  {
   "cell_type": "code",
   "execution_count": 239,
   "metadata": {},
   "outputs": [
    {
     "data": {
      "text/html": [
       "<div>\n",
       "<style scoped>\n",
       "    .dataframe tbody tr th:only-of-type {\n",
       "        vertical-align: middle;\n",
       "    }\n",
       "\n",
       "    .dataframe tbody tr th {\n",
       "        vertical-align: top;\n",
       "    }\n",
       "\n",
       "    .dataframe thead th {\n",
       "        text-align: right;\n",
       "    }\n",
       "</style>\n",
       "<table border=\"1\" class=\"dataframe\">\n",
       "  <thead>\n",
       "    <tr style=\"text-align: right;\">\n",
       "      <th></th>\n",
       "      <th>createTime</th>\n",
       "      <th>education</th>\n",
       "      <th>salary</th>\n",
       "    </tr>\n",
       "  </thead>\n",
       "  <tbody>\n",
       "    <tr>\n",
       "      <th>0</th>\n",
       "      <td>03-16</td>\n",
       "      <td>本科</td>\n",
       "      <td>27500</td>\n",
       "    </tr>\n",
       "    <tr>\n",
       "      <th>1</th>\n",
       "      <td>03-16</td>\n",
       "      <td>本科</td>\n",
       "      <td>30000</td>\n",
       "    </tr>\n",
       "    <tr>\n",
       "      <th>2</th>\n",
       "      <td>03-16</td>\n",
       "      <td>不限</td>\n",
       "      <td>27500</td>\n",
       "    </tr>\n",
       "    <tr>\n",
       "      <th>3</th>\n",
       "      <td>03-16</td>\n",
       "      <td>本科</td>\n",
       "      <td>16500</td>\n",
       "    </tr>\n",
       "    <tr>\n",
       "      <th>4</th>\n",
       "      <td>03-16</td>\n",
       "      <td>本科</td>\n",
       "      <td>15000</td>\n",
       "    </tr>\n",
       "    <tr>\n",
       "      <th>...</th>\n",
       "      <td>...</td>\n",
       "      <td>...</td>\n",
       "      <td>...</td>\n",
       "    </tr>\n",
       "    <tr>\n",
       "      <th>130</th>\n",
       "      <td>03-16</td>\n",
       "      <td>本科</td>\n",
       "      <td>14000</td>\n",
       "    </tr>\n",
       "    <tr>\n",
       "      <th>131</th>\n",
       "      <td>03-16</td>\n",
       "      <td>硕士</td>\n",
       "      <td>37500</td>\n",
       "    </tr>\n",
       "    <tr>\n",
       "      <th>132</th>\n",
       "      <td>03-16</td>\n",
       "      <td>本科</td>\n",
       "      <td>30000</td>\n",
       "    </tr>\n",
       "    <tr>\n",
       "      <th>133</th>\n",
       "      <td>03-16</td>\n",
       "      <td>本科</td>\n",
       "      <td>19000</td>\n",
       "    </tr>\n",
       "    <tr>\n",
       "      <th>134</th>\n",
       "      <td>03-16</td>\n",
       "      <td>本科</td>\n",
       "      <td>30000</td>\n",
       "    </tr>\n",
       "  </tbody>\n",
       "</table>\n",
       "<p>135 rows × 3 columns</p>\n",
       "</div>"
      ],
      "text/plain": [
       "    createTime education salary\n",
       "0        03-16        本科  27500\n",
       "1        03-16        本科  30000\n",
       "2        03-16        不限  27500\n",
       "3        03-16        本科  16500\n",
       "4        03-16        本科  15000\n",
       "..         ...       ...    ...\n",
       "130      03-16        本科  14000\n",
       "131      03-16        硕士  37500\n",
       "132      03-16        本科  30000\n",
       "133      03-16        本科  19000\n",
       "134      03-16        本科  30000\n",
       "\n",
       "[135 rows x 3 columns]"
      ]
     },
     "execution_count": 239,
     "metadata": {},
     "output_type": "execute_result"
    }
   ],
   "source": [
    "df"
   ]
  },
  {
   "cell_type": "markdown",
   "metadata": {},
   "source": [
    "# 35.数据处理\n",
    "将df的第一列与第二列合并为新的一列"
   ]
  },
  {
   "cell_type": "code",
   "execution_count": 285,
   "metadata": {},
   "outputs": [
    {
     "data": {
      "text/html": [
       "<div>\n",
       "<style scoped>\n",
       "    .dataframe tbody tr th:only-of-type {\n",
       "        vertical-align: middle;\n",
       "    }\n",
       "\n",
       "    .dataframe tbody tr th {\n",
       "        vertical-align: top;\n",
       "    }\n",
       "\n",
       "    .dataframe thead th {\n",
       "        text-align: right;\n",
       "    }\n",
       "</style>\n",
       "<table border=\"1\" class=\"dataframe\">\n",
       "  <thead>\n",
       "    <tr style=\"text-align: right;\">\n",
       "      <th></th>\n",
       "      <th>createTime</th>\n",
       "      <th>education</th>\n",
       "      <th>salary</th>\n",
       "      <th>test</th>\n",
       "    </tr>\n",
       "  </thead>\n",
       "  <tbody>\n",
       "    <tr>\n",
       "      <th>0</th>\n",
       "      <td>03-16</td>\n",
       "      <td>本科</td>\n",
       "      <td>27500.0</td>\n",
       "      <td>03-16本科</td>\n",
       "    </tr>\n",
       "    <tr>\n",
       "      <th>1</th>\n",
       "      <td>03-16</td>\n",
       "      <td>本科</td>\n",
       "      <td>30000.0</td>\n",
       "      <td>03-16本科</td>\n",
       "    </tr>\n",
       "    <tr>\n",
       "      <th>2</th>\n",
       "      <td>03-16</td>\n",
       "      <td>不限</td>\n",
       "      <td>27500.0</td>\n",
       "      <td>03-16不限</td>\n",
       "    </tr>\n",
       "    <tr>\n",
       "      <th>3</th>\n",
       "      <td>03-16</td>\n",
       "      <td>本科</td>\n",
       "      <td>16500.0</td>\n",
       "      <td>03-16本科</td>\n",
       "    </tr>\n",
       "    <tr>\n",
       "      <th>4</th>\n",
       "      <td>03-16</td>\n",
       "      <td>本科</td>\n",
       "      <td>15000.0</td>\n",
       "      <td>03-16本科</td>\n",
       "    </tr>\n",
       "    <tr>\n",
       "      <th>...</th>\n",
       "      <td>...</td>\n",
       "      <td>...</td>\n",
       "      <td>...</td>\n",
       "      <td>...</td>\n",
       "    </tr>\n",
       "    <tr>\n",
       "      <th>130</th>\n",
       "      <td>03-16</td>\n",
       "      <td>本科</td>\n",
       "      <td>14000.0</td>\n",
       "      <td>03-16本科</td>\n",
       "    </tr>\n",
       "    <tr>\n",
       "      <th>131</th>\n",
       "      <td>03-16</td>\n",
       "      <td>硕士</td>\n",
       "      <td>37500.0</td>\n",
       "      <td>03-16硕士</td>\n",
       "    </tr>\n",
       "    <tr>\n",
       "      <th>132</th>\n",
       "      <td>03-16</td>\n",
       "      <td>本科</td>\n",
       "      <td>30000.0</td>\n",
       "      <td>03-16本科</td>\n",
       "    </tr>\n",
       "    <tr>\n",
       "      <th>133</th>\n",
       "      <td>03-16</td>\n",
       "      <td>本科</td>\n",
       "      <td>19000.0</td>\n",
       "      <td>03-16本科</td>\n",
       "    </tr>\n",
       "    <tr>\n",
       "      <th>134</th>\n",
       "      <td>03-16</td>\n",
       "      <td>本科</td>\n",
       "      <td>30000.0</td>\n",
       "      <td>03-16本科</td>\n",
       "    </tr>\n",
       "  </tbody>\n",
       "</table>\n",
       "<p>135 rows × 4 columns</p>\n",
       "</div>"
      ],
      "text/plain": [
       "    createTime education   salary     test\n",
       "0        03-16        本科  27500.0  03-16本科\n",
       "1        03-16        本科  30000.0  03-16本科\n",
       "2        03-16        不限  27500.0  03-16不限\n",
       "3        03-16        本科  16500.0  03-16本科\n",
       "4        03-16        本科  15000.0  03-16本科\n",
       "..         ...       ...      ...      ...\n",
       "130      03-16        本科  14000.0  03-16本科\n",
       "131      03-16        硕士  37500.0  03-16硕士\n",
       "132      03-16        本科  30000.0  03-16本科\n",
       "133      03-16        本科  19000.0  03-16本科\n",
       "134      03-16        本科  30000.0  03-16本科\n",
       "\n",
       "[135 rows x 4 columns]"
      ]
     },
     "execution_count": 285,
     "metadata": {},
     "output_type": "execute_result"
    }
   ],
   "source": [
    "df['test']=df['createTime']+df['education']\n",
    "df"
   ]
  },
  {
   "cell_type": "markdown",
   "metadata": {},
   "source": [
    "# 36.数据处理\n",
    "将education列与salary列合并为新的一列"
   ]
  },
  {
   "cell_type": "code",
   "execution_count": 286,
   "metadata": {},
   "outputs": [
    {
     "data": {
      "text/html": [
       "<div>\n",
       "<style scoped>\n",
       "    .dataframe tbody tr th:only-of-type {\n",
       "        vertical-align: middle;\n",
       "    }\n",
       "\n",
       "    .dataframe tbody tr th {\n",
       "        vertical-align: top;\n",
       "    }\n",
       "\n",
       "    .dataframe thead th {\n",
       "        text-align: right;\n",
       "    }\n",
       "</style>\n",
       "<table border=\"1\" class=\"dataframe\">\n",
       "  <thead>\n",
       "    <tr style=\"text-align: right;\">\n",
       "      <th></th>\n",
       "      <th>createTime</th>\n",
       "      <th>education</th>\n",
       "      <th>salary</th>\n",
       "      <th>test</th>\n",
       "      <th>test1</th>\n",
       "    </tr>\n",
       "  </thead>\n",
       "  <tbody>\n",
       "    <tr>\n",
       "      <th>0</th>\n",
       "      <td>03-16</td>\n",
       "      <td>本科</td>\n",
       "      <td>27500.0</td>\n",
       "      <td>03-16本科</td>\n",
       "      <td>本科27500.0</td>\n",
       "    </tr>\n",
       "    <tr>\n",
       "      <th>1</th>\n",
       "      <td>03-16</td>\n",
       "      <td>本科</td>\n",
       "      <td>30000.0</td>\n",
       "      <td>03-16本科</td>\n",
       "      <td>本科30000.0</td>\n",
       "    </tr>\n",
       "    <tr>\n",
       "      <th>2</th>\n",
       "      <td>03-16</td>\n",
       "      <td>不限</td>\n",
       "      <td>27500.0</td>\n",
       "      <td>03-16不限</td>\n",
       "      <td>不限27500.0</td>\n",
       "    </tr>\n",
       "    <tr>\n",
       "      <th>3</th>\n",
       "      <td>03-16</td>\n",
       "      <td>本科</td>\n",
       "      <td>16500.0</td>\n",
       "      <td>03-16本科</td>\n",
       "      <td>本科16500.0</td>\n",
       "    </tr>\n",
       "    <tr>\n",
       "      <th>4</th>\n",
       "      <td>03-16</td>\n",
       "      <td>本科</td>\n",
       "      <td>15000.0</td>\n",
       "      <td>03-16本科</td>\n",
       "      <td>本科15000.0</td>\n",
       "    </tr>\n",
       "    <tr>\n",
       "      <th>...</th>\n",
       "      <td>...</td>\n",
       "      <td>...</td>\n",
       "      <td>...</td>\n",
       "      <td>...</td>\n",
       "      <td>...</td>\n",
       "    </tr>\n",
       "    <tr>\n",
       "      <th>130</th>\n",
       "      <td>03-16</td>\n",
       "      <td>本科</td>\n",
       "      <td>14000.0</td>\n",
       "      <td>03-16本科</td>\n",
       "      <td>本科14000.0</td>\n",
       "    </tr>\n",
       "    <tr>\n",
       "      <th>131</th>\n",
       "      <td>03-16</td>\n",
       "      <td>硕士</td>\n",
       "      <td>37500.0</td>\n",
       "      <td>03-16硕士</td>\n",
       "      <td>硕士37500.0</td>\n",
       "    </tr>\n",
       "    <tr>\n",
       "      <th>132</th>\n",
       "      <td>03-16</td>\n",
       "      <td>本科</td>\n",
       "      <td>30000.0</td>\n",
       "      <td>03-16本科</td>\n",
       "      <td>本科30000.0</td>\n",
       "    </tr>\n",
       "    <tr>\n",
       "      <th>133</th>\n",
       "      <td>03-16</td>\n",
       "      <td>本科</td>\n",
       "      <td>19000.0</td>\n",
       "      <td>03-16本科</td>\n",
       "      <td>本科19000.0</td>\n",
       "    </tr>\n",
       "    <tr>\n",
       "      <th>134</th>\n",
       "      <td>03-16</td>\n",
       "      <td>本科</td>\n",
       "      <td>30000.0</td>\n",
       "      <td>03-16本科</td>\n",
       "      <td>本科30000.0</td>\n",
       "    </tr>\n",
       "  </tbody>\n",
       "</table>\n",
       "<p>135 rows × 5 columns</p>\n",
       "</div>"
      ],
      "text/plain": [
       "    createTime education   salary     test      test1\n",
       "0        03-16        本科  27500.0  03-16本科  本科27500.0\n",
       "1        03-16        本科  30000.0  03-16本科  本科30000.0\n",
       "2        03-16        不限  27500.0  03-16不限  不限27500.0\n",
       "3        03-16        本科  16500.0  03-16本科  本科16500.0\n",
       "4        03-16        本科  15000.0  03-16本科  本科15000.0\n",
       "..         ...       ...      ...      ...        ...\n",
       "130      03-16        本科  14000.0  03-16本科  本科14000.0\n",
       "131      03-16        硕士  37500.0  03-16硕士  硕士37500.0\n",
       "132      03-16        本科  30000.0  03-16本科  本科30000.0\n",
       "133      03-16        本科  19000.0  03-16本科  本科19000.0\n",
       "134      03-16        本科  30000.0  03-16本科  本科30000.0\n",
       "\n",
       "[135 rows x 5 columns]"
      ]
     },
     "execution_count": 286,
     "metadata": {},
     "output_type": "execute_result"
    }
   ],
   "source": [
    "# 必须先把salary列转为字符串类型\n",
    "df.dtypes\n",
    "# df['education']+str(df['salary']) #不合适\n",
    "type(df['salary'].map(str).iloc[0]) #映射\n",
    "df['test1']=df['education']+df['salary'].map(str)\n",
    "df"
   ]
  },
  {
   "cell_type": "markdown",
   "metadata": {},
   "source": [
    "# 37.数据计算\n",
    "计算salary最大值与最小值的差"
   ]
  },
  {
   "cell_type": "code",
   "execution_count": 204,
   "metadata": {},
   "outputs": [
    {
     "name": "stdout",
     "output_type": "stream",
     "text": [
      "<class 'pandas.core.frame.DataFrame'>\n",
      "RangeIndex: 135 entries, 0 to 134\n",
      "Data columns (total 1 columns):\n",
      " #   Column  Non-Null Count  Dtype  \n",
      "---  ------  --------------  -----  \n",
      " 0   salary  135 non-null    float64\n",
      "dtypes: float64(1)\n",
      "memory usage: 1.2 KB\n"
     ]
    }
   ],
   "source": [
    "df['salary'].max()-df['salary'].min()\n",
    "\n",
    "df[['salary']].apply(lambda x:x.max()-x.min()) #注意加[]，apply用在dataFrame,map用在Series\n",
    "df[['salary']].info()"
   ]
  },
  {
   "cell_type": "markdown",
   "metadata": {},
   "source": [
    "# 38.数据处理\n",
    "将第一行与最后一行拼接"
   ]
  },
  {
   "cell_type": "code",
   "execution_count": 214,
   "metadata": {},
   "outputs": [
    {
     "data": {
      "text/html": [
       "<div>\n",
       "<style scoped>\n",
       "    .dataframe tbody tr th:only-of-type {\n",
       "        vertical-align: middle;\n",
       "    }\n",
       "\n",
       "    .dataframe tbody tr th {\n",
       "        vertical-align: top;\n",
       "    }\n",
       "\n",
       "    .dataframe thead th {\n",
       "        text-align: right;\n",
       "    }\n",
       "</style>\n",
       "<table border=\"1\" class=\"dataframe\">\n",
       "  <thead>\n",
       "    <tr style=\"text-align: right;\">\n",
       "      <th></th>\n",
       "      <th>createTime</th>\n",
       "      <th>education</th>\n",
       "      <th>salary</th>\n",
       "      <th>test</th>\n",
       "      <th>test1</th>\n",
       "    </tr>\n",
       "  </thead>\n",
       "  <tbody>\n",
       "    <tr>\n",
       "      <th>5</th>\n",
       "      <td>03-16</td>\n",
       "      <td>本科</td>\n",
       "      <td>14000.0</td>\n",
       "      <td>本科14000.0</td>\n",
       "      <td>本科14000.0</td>\n",
       "    </tr>\n",
       "    <tr>\n",
       "      <th>6</th>\n",
       "      <td>03-16</td>\n",
       "      <td>硕士</td>\n",
       "      <td>23000.0</td>\n",
       "      <td>硕士23000.0</td>\n",
       "      <td>硕士23000.0</td>\n",
       "    </tr>\n",
       "    <tr>\n",
       "      <th>7</th>\n",
       "      <td>03-16</td>\n",
       "      <td>本科</td>\n",
       "      <td>12500.0</td>\n",
       "      <td>本科12500.0</td>\n",
       "      <td>本科12500.0</td>\n",
       "    </tr>\n",
       "    <tr>\n",
       "      <th>8</th>\n",
       "      <td>03-16</td>\n",
       "      <td>不限</td>\n",
       "      <td>7000.0</td>\n",
       "      <td>不限7000.0</td>\n",
       "      <td>不限7000.0</td>\n",
       "    </tr>\n",
       "    <tr>\n",
       "      <th>9</th>\n",
       "      <td>03-16</td>\n",
       "      <td>本科</td>\n",
       "      <td>16000.0</td>\n",
       "      <td>本科16000.0</td>\n",
       "      <td>本科16000.0</td>\n",
       "    </tr>\n",
       "    <tr>\n",
       "      <th>...</th>\n",
       "      <td>...</td>\n",
       "      <td>...</td>\n",
       "      <td>...</td>\n",
       "      <td>...</td>\n",
       "      <td>...</td>\n",
       "    </tr>\n",
       "    <tr>\n",
       "      <th>130</th>\n",
       "      <td>03-16</td>\n",
       "      <td>本科</td>\n",
       "      <td>14000.0</td>\n",
       "      <td>本科14000.0</td>\n",
       "      <td>本科14000.0</td>\n",
       "    </tr>\n",
       "    <tr>\n",
       "      <th>131</th>\n",
       "      <td>03-16</td>\n",
       "      <td>硕士</td>\n",
       "      <td>37500.0</td>\n",
       "      <td>硕士37500.0</td>\n",
       "      <td>硕士37500.0</td>\n",
       "    </tr>\n",
       "    <tr>\n",
       "      <th>132</th>\n",
       "      <td>03-16</td>\n",
       "      <td>本科</td>\n",
       "      <td>30000.0</td>\n",
       "      <td>本科30000.0</td>\n",
       "      <td>本科30000.0</td>\n",
       "    </tr>\n",
       "    <tr>\n",
       "      <th>133</th>\n",
       "      <td>03-16</td>\n",
       "      <td>本科</td>\n",
       "      <td>19000.0</td>\n",
       "      <td>本科19000.0</td>\n",
       "      <td>本科19000.0</td>\n",
       "    </tr>\n",
       "    <tr>\n",
       "      <th>134</th>\n",
       "      <td>03-16</td>\n",
       "      <td>本科</td>\n",
       "      <td>30000.0</td>\n",
       "      <td>本科30000.0</td>\n",
       "      <td>本科30000.0</td>\n",
       "    </tr>\n",
       "  </tbody>\n",
       "</table>\n",
       "<p>130 rows × 5 columns</p>\n",
       "</div>"
      ],
      "text/plain": [
       "    createTime education   salary       test      test1\n",
       "5        03-16        本科  14000.0  本科14000.0  本科14000.0\n",
       "6        03-16        硕士  23000.0  硕士23000.0  硕士23000.0\n",
       "7        03-16        本科  12500.0  本科12500.0  本科12500.0\n",
       "8        03-16        不限   7000.0   不限7000.0   不限7000.0\n",
       "9        03-16        本科  16000.0  本科16000.0  本科16000.0\n",
       "..         ...       ...      ...        ...        ...\n",
       "130      03-16        本科  14000.0  本科14000.0  本科14000.0\n",
       "131      03-16        硕士  37500.0  硕士37500.0  硕士37500.0\n",
       "132      03-16        本科  30000.0  本科30000.0  本科30000.0\n",
       "133      03-16        本科  19000.0  本科19000.0  本科19000.0\n",
       "134      03-16        本科  30000.0  本科30000.0  本科30000.0\n",
       "\n",
       "[130 rows x 5 columns]"
      ]
     },
     "execution_count": 214,
     "metadata": {},
     "output_type": "execute_result"
    }
   ],
   "source": [
    "# 17.数据修改添加一行数据['Perl',6.6]\n",
    "pd.concat((df.iloc[0],df.iloc[-1])) #Series\n",
    "pd.concat((df[:1],df[-1:])) #DataFrame\n",
    "df[:5] #取前5行=df.iloc[:5]\n",
    "df[5:] #取第5行之后的所有行=df.iloc[5:]"
   ]
  },
  {
   "cell_type": "markdown",
   "metadata": {},
   "source": [
    "# 39.数据处理\n",
    "将第8行数据添加至末尾"
   ]
  },
  {
   "cell_type": "code",
   "execution_count": 215,
   "metadata": {},
   "outputs": [
    {
     "data": {
      "text/html": [
       "<div>\n",
       "<style scoped>\n",
       "    .dataframe tbody tr th:only-of-type {\n",
       "        vertical-align: middle;\n",
       "    }\n",
       "\n",
       "    .dataframe tbody tr th {\n",
       "        vertical-align: top;\n",
       "    }\n",
       "\n",
       "    .dataframe thead th {\n",
       "        text-align: right;\n",
       "    }\n",
       "</style>\n",
       "<table border=\"1\" class=\"dataframe\">\n",
       "  <thead>\n",
       "    <tr style=\"text-align: right;\">\n",
       "      <th></th>\n",
       "      <th>createTime</th>\n",
       "      <th>education</th>\n",
       "      <th>salary</th>\n",
       "      <th>test</th>\n",
       "      <th>test1</th>\n",
       "    </tr>\n",
       "  </thead>\n",
       "  <tbody>\n",
       "    <tr>\n",
       "      <th>0</th>\n",
       "      <td>03-16</td>\n",
       "      <td>本科</td>\n",
       "      <td>27500.0</td>\n",
       "      <td>本科27500.0</td>\n",
       "      <td>本科27500.0</td>\n",
       "    </tr>\n",
       "    <tr>\n",
       "      <th>1</th>\n",
       "      <td>03-16</td>\n",
       "      <td>本科</td>\n",
       "      <td>30000.0</td>\n",
       "      <td>本科30000.0</td>\n",
       "      <td>本科30000.0</td>\n",
       "    </tr>\n",
       "    <tr>\n",
       "      <th>2</th>\n",
       "      <td>03-16</td>\n",
       "      <td>不限</td>\n",
       "      <td>27500.0</td>\n",
       "      <td>不限27500.0</td>\n",
       "      <td>不限27500.0</td>\n",
       "    </tr>\n",
       "    <tr>\n",
       "      <th>3</th>\n",
       "      <td>03-16</td>\n",
       "      <td>本科</td>\n",
       "      <td>16500.0</td>\n",
       "      <td>本科16500.0</td>\n",
       "      <td>本科16500.0</td>\n",
       "    </tr>\n",
       "    <tr>\n",
       "      <th>4</th>\n",
       "      <td>03-16</td>\n",
       "      <td>本科</td>\n",
       "      <td>15000.0</td>\n",
       "      <td>本科15000.0</td>\n",
       "      <td>本科15000.0</td>\n",
       "    </tr>\n",
       "    <tr>\n",
       "      <th>...</th>\n",
       "      <td>...</td>\n",
       "      <td>...</td>\n",
       "      <td>...</td>\n",
       "      <td>...</td>\n",
       "      <td>...</td>\n",
       "    </tr>\n",
       "    <tr>\n",
       "      <th>131</th>\n",
       "      <td>03-16</td>\n",
       "      <td>硕士</td>\n",
       "      <td>37500.0</td>\n",
       "      <td>硕士37500.0</td>\n",
       "      <td>硕士37500.0</td>\n",
       "    </tr>\n",
       "    <tr>\n",
       "      <th>132</th>\n",
       "      <td>03-16</td>\n",
       "      <td>本科</td>\n",
       "      <td>30000.0</td>\n",
       "      <td>本科30000.0</td>\n",
       "      <td>本科30000.0</td>\n",
       "    </tr>\n",
       "    <tr>\n",
       "      <th>133</th>\n",
       "      <td>03-16</td>\n",
       "      <td>本科</td>\n",
       "      <td>19000.0</td>\n",
       "      <td>本科19000.0</td>\n",
       "      <td>本科19000.0</td>\n",
       "    </tr>\n",
       "    <tr>\n",
       "      <th>134</th>\n",
       "      <td>03-16</td>\n",
       "      <td>本科</td>\n",
       "      <td>30000.0</td>\n",
       "      <td>本科30000.0</td>\n",
       "      <td>本科30000.0</td>\n",
       "    </tr>\n",
       "    <tr>\n",
       "      <th>7</th>\n",
       "      <td>03-16</td>\n",
       "      <td>本科</td>\n",
       "      <td>12500.0</td>\n",
       "      <td>本科12500.0</td>\n",
       "      <td>本科12500.0</td>\n",
       "    </tr>\n",
       "  </tbody>\n",
       "</table>\n",
       "<p>136 rows × 5 columns</p>\n",
       "</div>"
      ],
      "text/plain": [
       "    createTime education   salary       test      test1\n",
       "0        03-16        本科  27500.0  本科27500.0  本科27500.0\n",
       "1        03-16        本科  30000.0  本科30000.0  本科30000.0\n",
       "2        03-16        不限  27500.0  不限27500.0  不限27500.0\n",
       "3        03-16        本科  16500.0  本科16500.0  本科16500.0\n",
       "4        03-16        本科  15000.0  本科15000.0  本科15000.0\n",
       "..         ...       ...      ...        ...        ...\n",
       "131      03-16        硕士  37500.0  硕士37500.0  硕士37500.0\n",
       "132      03-16        本科  30000.0  本科30000.0  本科30000.0\n",
       "133      03-16        本科  19000.0  本科19000.0  本科19000.0\n",
       "134      03-16        本科  30000.0  本科30000.0  本科30000.0\n",
       "7        03-16        本科  12500.0  本科12500.0  本科12500.0\n",
       "\n",
       "[136 rows x 5 columns]"
      ]
     },
     "execution_count": 215,
     "metadata": {},
     "output_type": "execute_result"
    }
   ],
   "source": [
    "df.append(df.iloc[7])"
   ]
  },
  {
   "cell_type": "markdown",
   "metadata": {},
   "source": [
    "# 40.查看每列的数据类型"
   ]
  },
  {
   "cell_type": "code",
   "execution_count": 287,
   "metadata": {},
   "outputs": [
    {
     "data": {
      "text/plain": [
       "dtype('float64')"
      ]
     },
     "execution_count": 287,
     "metadata": {},
     "output_type": "execute_result"
    }
   ],
   "source": [
    "df.dtypes\n",
    "df['salary'].dtypes\n",
    "df['salary'].dtype"
   ]
  },
  {
   "cell_type": "markdown",
   "metadata": {},
   "source": [
    "# 41.数据处理\n",
    "将createTime列设置为索引"
   ]
  },
  {
   "cell_type": "code",
   "execution_count": 219,
   "metadata": {},
   "outputs": [
    {
     "data": {
      "text/html": [
       "<div>\n",
       "<style scoped>\n",
       "    .dataframe tbody tr th:only-of-type {\n",
       "        vertical-align: middle;\n",
       "    }\n",
       "\n",
       "    .dataframe tbody tr th {\n",
       "        vertical-align: top;\n",
       "    }\n",
       "\n",
       "    .dataframe thead th {\n",
       "        text-align: right;\n",
       "    }\n",
       "</style>\n",
       "<table border=\"1\" class=\"dataframe\">\n",
       "  <thead>\n",
       "    <tr style=\"text-align: right;\">\n",
       "      <th></th>\n",
       "      <th>education</th>\n",
       "      <th>salary</th>\n",
       "      <th>test</th>\n",
       "      <th>test1</th>\n",
       "    </tr>\n",
       "    <tr>\n",
       "      <th>createTime</th>\n",
       "      <th></th>\n",
       "      <th></th>\n",
       "      <th></th>\n",
       "      <th></th>\n",
       "    </tr>\n",
       "  </thead>\n",
       "  <tbody>\n",
       "    <tr>\n",
       "      <th>03-16</th>\n",
       "      <td>本科</td>\n",
       "      <td>27500.0</td>\n",
       "      <td>本科27500.0</td>\n",
       "      <td>本科27500.0</td>\n",
       "    </tr>\n",
       "    <tr>\n",
       "      <th>03-16</th>\n",
       "      <td>本科</td>\n",
       "      <td>30000.0</td>\n",
       "      <td>本科30000.0</td>\n",
       "      <td>本科30000.0</td>\n",
       "    </tr>\n",
       "    <tr>\n",
       "      <th>03-16</th>\n",
       "      <td>不限</td>\n",
       "      <td>27500.0</td>\n",
       "      <td>不限27500.0</td>\n",
       "      <td>不限27500.0</td>\n",
       "    </tr>\n",
       "    <tr>\n",
       "      <th>03-16</th>\n",
       "      <td>本科</td>\n",
       "      <td>16500.0</td>\n",
       "      <td>本科16500.0</td>\n",
       "      <td>本科16500.0</td>\n",
       "    </tr>\n",
       "    <tr>\n",
       "      <th>03-16</th>\n",
       "      <td>本科</td>\n",
       "      <td>15000.0</td>\n",
       "      <td>本科15000.0</td>\n",
       "      <td>本科15000.0</td>\n",
       "    </tr>\n",
       "    <tr>\n",
       "      <th>...</th>\n",
       "      <td>...</td>\n",
       "      <td>...</td>\n",
       "      <td>...</td>\n",
       "      <td>...</td>\n",
       "    </tr>\n",
       "    <tr>\n",
       "      <th>03-16</th>\n",
       "      <td>本科</td>\n",
       "      <td>14000.0</td>\n",
       "      <td>本科14000.0</td>\n",
       "      <td>本科14000.0</td>\n",
       "    </tr>\n",
       "    <tr>\n",
       "      <th>03-16</th>\n",
       "      <td>硕士</td>\n",
       "      <td>37500.0</td>\n",
       "      <td>硕士37500.0</td>\n",
       "      <td>硕士37500.0</td>\n",
       "    </tr>\n",
       "    <tr>\n",
       "      <th>03-16</th>\n",
       "      <td>本科</td>\n",
       "      <td>30000.0</td>\n",
       "      <td>本科30000.0</td>\n",
       "      <td>本科30000.0</td>\n",
       "    </tr>\n",
       "    <tr>\n",
       "      <th>03-16</th>\n",
       "      <td>本科</td>\n",
       "      <td>19000.0</td>\n",
       "      <td>本科19000.0</td>\n",
       "      <td>本科19000.0</td>\n",
       "    </tr>\n",
       "    <tr>\n",
       "      <th>03-16</th>\n",
       "      <td>本科</td>\n",
       "      <td>30000.0</td>\n",
       "      <td>本科30000.0</td>\n",
       "      <td>本科30000.0</td>\n",
       "    </tr>\n",
       "  </tbody>\n",
       "</table>\n",
       "<p>135 rows × 4 columns</p>\n",
       "</div>"
      ],
      "text/plain": [
       "           education   salary       test      test1\n",
       "createTime                                         \n",
       "03-16             本科  27500.0  本科27500.0  本科27500.0\n",
       "03-16             本科  30000.0  本科30000.0  本科30000.0\n",
       "03-16             不限  27500.0  不限27500.0  不限27500.0\n",
       "03-16             本科  16500.0  本科16500.0  本科16500.0\n",
       "03-16             本科  15000.0  本科15000.0  本科15000.0\n",
       "...              ...      ...        ...        ...\n",
       "03-16             本科  14000.0  本科14000.0  本科14000.0\n",
       "03-16             硕士  37500.0  硕士37500.0  硕士37500.0\n",
       "03-16             本科  30000.0  本科30000.0  本科30000.0\n",
       "03-16             本科  19000.0  本科19000.0  本科19000.0\n",
       "03-16             本科  30000.0  本科30000.0  本科30000.0\n",
       "\n",
       "[135 rows x 4 columns]"
      ]
     },
     "execution_count": 219,
     "metadata": {},
     "output_type": "execute_result"
    }
   ],
   "source": [
    "df.set_index('createTime') #加inplace=True才能真正改变"
   ]
  },
  {
   "cell_type": "markdown",
   "metadata": {},
   "source": [
    "# 42.数据创建\n",
    "生成一个和df长度相同的随机数dataframe"
   ]
  },
  {
   "cell_type": "code",
   "execution_count": 288,
   "metadata": {},
   "outputs": [
    {
     "data": {
      "text/html": [
       "<div>\n",
       "<style scoped>\n",
       "    .dataframe tbody tr th:only-of-type {\n",
       "        vertical-align: middle;\n",
       "    }\n",
       "\n",
       "    .dataframe tbody tr th {\n",
       "        vertical-align: top;\n",
       "    }\n",
       "\n",
       "    .dataframe thead th {\n",
       "        text-align: right;\n",
       "    }\n",
       "</style>\n",
       "<table border=\"1\" class=\"dataframe\">\n",
       "  <thead>\n",
       "    <tr style=\"text-align: right;\">\n",
       "      <th></th>\n",
       "      <th>0</th>\n",
       "    </tr>\n",
       "  </thead>\n",
       "  <tbody>\n",
       "    <tr>\n",
       "      <th>0</th>\n",
       "      <td>3</td>\n",
       "    </tr>\n",
       "    <tr>\n",
       "      <th>1</th>\n",
       "      <td>7</td>\n",
       "    </tr>\n",
       "    <tr>\n",
       "      <th>2</th>\n",
       "      <td>8</td>\n",
       "    </tr>\n",
       "    <tr>\n",
       "      <th>3</th>\n",
       "      <td>6</td>\n",
       "    </tr>\n",
       "    <tr>\n",
       "      <th>4</th>\n",
       "      <td>5</td>\n",
       "    </tr>\n",
       "    <tr>\n",
       "      <th>...</th>\n",
       "      <td>...</td>\n",
       "    </tr>\n",
       "    <tr>\n",
       "      <th>130</th>\n",
       "      <td>1</td>\n",
       "    </tr>\n",
       "    <tr>\n",
       "      <th>131</th>\n",
       "      <td>3</td>\n",
       "    </tr>\n",
       "    <tr>\n",
       "      <th>132</th>\n",
       "      <td>2</td>\n",
       "    </tr>\n",
       "    <tr>\n",
       "      <th>133</th>\n",
       "      <td>4</td>\n",
       "    </tr>\n",
       "    <tr>\n",
       "      <th>134</th>\n",
       "      <td>7</td>\n",
       "    </tr>\n",
       "  </tbody>\n",
       "</table>\n",
       "<p>135 rows × 1 columns</p>\n",
       "</div>"
      ],
      "text/plain": [
       "     0\n",
       "0    3\n",
       "1    7\n",
       "2    8\n",
       "3    6\n",
       "4    5\n",
       "..  ..\n",
       "130  1\n",
       "131  3\n",
       "132  2\n",
       "133  4\n",
       "134  7\n",
       "\n",
       "[135 rows x 1 columns]"
      ]
     },
     "execution_count": 288,
     "metadata": {},
     "output_type": "execute_result"
    }
   ],
   "source": [
    "pd.Series(np.random.randint(1,10,135)) #135个1到10的随机数\n",
    "df3=pd.DataFrame(pd.Series(np.random.randint(1,10,135)))\n",
    "df3"
   ]
  },
  {
   "cell_type": "markdown",
   "metadata": {},
   "source": [
    "# 43.数据处理\n",
    "将上一题生成的dataframe与df合并"
   ]
  },
  {
   "cell_type": "code",
   "execution_count": 289,
   "metadata": {},
   "outputs": [
    {
     "data": {
      "text/html": [
       "<div>\n",
       "<style scoped>\n",
       "    .dataframe tbody tr th:only-of-type {\n",
       "        vertical-align: middle;\n",
       "    }\n",
       "\n",
       "    .dataframe tbody tr th {\n",
       "        vertical-align: top;\n",
       "    }\n",
       "\n",
       "    .dataframe thead th {\n",
       "        text-align: right;\n",
       "    }\n",
       "</style>\n",
       "<table border=\"1\" class=\"dataframe\">\n",
       "  <thead>\n",
       "    <tr style=\"text-align: right;\">\n",
       "      <th></th>\n",
       "      <th>createTime</th>\n",
       "      <th>education</th>\n",
       "      <th>salary</th>\n",
       "      <th>test</th>\n",
       "      <th>test1</th>\n",
       "      <th>0</th>\n",
       "    </tr>\n",
       "  </thead>\n",
       "  <tbody>\n",
       "    <tr>\n",
       "      <th>0</th>\n",
       "      <td>03-16</td>\n",
       "      <td>本科</td>\n",
       "      <td>27500.0</td>\n",
       "      <td>03-16本科</td>\n",
       "      <td>本科27500.0</td>\n",
       "      <td>3</td>\n",
       "    </tr>\n",
       "    <tr>\n",
       "      <th>1</th>\n",
       "      <td>03-16</td>\n",
       "      <td>本科</td>\n",
       "      <td>30000.0</td>\n",
       "      <td>03-16本科</td>\n",
       "      <td>本科30000.0</td>\n",
       "      <td>7</td>\n",
       "    </tr>\n",
       "    <tr>\n",
       "      <th>2</th>\n",
       "      <td>03-16</td>\n",
       "      <td>不限</td>\n",
       "      <td>27500.0</td>\n",
       "      <td>03-16不限</td>\n",
       "      <td>不限27500.0</td>\n",
       "      <td>8</td>\n",
       "    </tr>\n",
       "    <tr>\n",
       "      <th>3</th>\n",
       "      <td>03-16</td>\n",
       "      <td>本科</td>\n",
       "      <td>16500.0</td>\n",
       "      <td>03-16本科</td>\n",
       "      <td>本科16500.0</td>\n",
       "      <td>6</td>\n",
       "    </tr>\n",
       "    <tr>\n",
       "      <th>4</th>\n",
       "      <td>03-16</td>\n",
       "      <td>本科</td>\n",
       "      <td>15000.0</td>\n",
       "      <td>03-16本科</td>\n",
       "      <td>本科15000.0</td>\n",
       "      <td>5</td>\n",
       "    </tr>\n",
       "    <tr>\n",
       "      <th>...</th>\n",
       "      <td>...</td>\n",
       "      <td>...</td>\n",
       "      <td>...</td>\n",
       "      <td>...</td>\n",
       "      <td>...</td>\n",
       "      <td>...</td>\n",
       "    </tr>\n",
       "    <tr>\n",
       "      <th>130</th>\n",
       "      <td>03-16</td>\n",
       "      <td>本科</td>\n",
       "      <td>14000.0</td>\n",
       "      <td>03-16本科</td>\n",
       "      <td>本科14000.0</td>\n",
       "      <td>1</td>\n",
       "    </tr>\n",
       "    <tr>\n",
       "      <th>131</th>\n",
       "      <td>03-16</td>\n",
       "      <td>硕士</td>\n",
       "      <td>37500.0</td>\n",
       "      <td>03-16硕士</td>\n",
       "      <td>硕士37500.0</td>\n",
       "      <td>3</td>\n",
       "    </tr>\n",
       "    <tr>\n",
       "      <th>132</th>\n",
       "      <td>03-16</td>\n",
       "      <td>本科</td>\n",
       "      <td>30000.0</td>\n",
       "      <td>03-16本科</td>\n",
       "      <td>本科30000.0</td>\n",
       "      <td>2</td>\n",
       "    </tr>\n",
       "    <tr>\n",
       "      <th>133</th>\n",
       "      <td>03-16</td>\n",
       "      <td>本科</td>\n",
       "      <td>19000.0</td>\n",
       "      <td>03-16本科</td>\n",
       "      <td>本科19000.0</td>\n",
       "      <td>4</td>\n",
       "    </tr>\n",
       "    <tr>\n",
       "      <th>134</th>\n",
       "      <td>03-16</td>\n",
       "      <td>本科</td>\n",
       "      <td>30000.0</td>\n",
       "      <td>03-16本科</td>\n",
       "      <td>本科30000.0</td>\n",
       "      <td>7</td>\n",
       "    </tr>\n",
       "  </tbody>\n",
       "</table>\n",
       "<p>135 rows × 6 columns</p>\n",
       "</div>"
      ],
      "text/plain": [
       "    createTime education   salary     test      test1  0\n",
       "0        03-16        本科  27500.0  03-16本科  本科27500.0  3\n",
       "1        03-16        本科  30000.0  03-16本科  本科30000.0  7\n",
       "2        03-16        不限  27500.0  03-16不限  不限27500.0  8\n",
       "3        03-16        本科  16500.0  03-16本科  本科16500.0  6\n",
       "4        03-16        本科  15000.0  03-16本科  本科15000.0  5\n",
       "..         ...       ...      ...      ...        ... ..\n",
       "130      03-16        本科  14000.0  03-16本科  本科14000.0  1\n",
       "131      03-16        硕士  37500.0  03-16硕士  硕士37500.0  3\n",
       "132      03-16        本科  30000.0  03-16本科  本科30000.0  2\n",
       "133      03-16        本科  19000.0  03-16本科  本科19000.0  4\n",
       "134      03-16        本科  30000.0  03-16本科  本科30000.0  7\n",
       "\n",
       "[135 rows x 6 columns]"
      ]
     },
     "execution_count": 289,
     "metadata": {},
     "output_type": "execute_result"
    }
   ],
   "source": [
    "df=pd.concat((df,df3),axis=1)\n",
    "df"
   ]
  },
  {
   "cell_type": "markdown",
   "metadata": {},
   "source": [
    "# 44.数据计算\n",
    "生成新的一列new为salary列减去之前生成随机数列"
   ]
  },
  {
   "cell_type": "code",
   "execution_count": 290,
   "metadata": {},
   "outputs": [
    {
     "data": {
      "text/plain": [
       "Index(['createTime', 'education', 'salary', 'test', 'test1', 0, 'new'], dtype='object')"
      ]
     },
     "execution_count": 290,
     "metadata": {},
     "output_type": "execute_result"
    }
   ],
   "source": [
    "df['new']=df['salary']-df[0] #0不用加''\n",
    "df.columns #Index(['createTime', 'education', 'salary', 'test', 'test1', 0, 'new'], dtype='object')\n",
    "# df"
   ]
  },
  {
   "cell_type": "markdown",
   "metadata": {},
   "source": [
    "# 45.缺失值处理\n",
    "检查数据中是否含有任何缺失值"
   ]
  },
  {
   "cell_type": "code",
   "execution_count": 257,
   "metadata": {},
   "outputs": [
    {
     "data": {
      "text/plain": [
       "False"
      ]
     },
     "execution_count": 257,
     "metadata": {},
     "output_type": "execute_result"
    }
   ],
   "source": [
    "df.isnull()\n",
    "df.isnull().values\n",
    "df.isnull().values.any() #只要有一个缺失值就返回True\n",
    "df.isnull().values.all() #只有全是缺失值才返回True"
   ]
  },
  {
   "cell_type": "markdown",
   "metadata": {},
   "source": [
    "# 46.数据转换\n",
    "将salary列类型转换为浮点数"
   ]
  },
  {
   "cell_type": "code",
   "execution_count": 291,
   "metadata": {},
   "outputs": [
    {
     "data": {
      "text/plain": [
       "0      27500.0\n",
       "1      30000.0\n",
       "2      27500.0\n",
       "3      16500.0\n",
       "4      15000.0\n",
       "        ...   \n",
       "130    14000.0\n",
       "131    37500.0\n",
       "132    30000.0\n",
       "133    19000.0\n",
       "134    30000.0\n",
       "Name: salary, Length: 135, dtype: float64"
      ]
     },
     "execution_count": 291,
     "metadata": {},
     "output_type": "execute_result"
    }
   ],
   "source": [
    "df['salary'] #Name: salary, Length: 135, dtype: float64\n",
    "# df['salary'].astype('float') #Name: salary, Length: 135, dtype: float64\n",
    "# df['salary'].astype('float32') #Name: salary, Length: 135, dtype: float32"
   ]
  },
  {
   "cell_type": "markdown",
   "metadata": {},
   "source": [
    "# 47.数据计算\n",
    "计算salary大于10000的次数"
   ]
  },
  {
   "cell_type": "code",
   "execution_count": 274,
   "metadata": {},
   "outputs": [
    {
     "data": {
      "text/plain": [
       "119"
      ]
     },
     "execution_count": 274,
     "metadata": {},
     "output_type": "execute_result"
    }
   ],
   "source": [
    "# 方法1，获取True，False的数\n",
    "df['salary']>10000 #Name: salary, Length: 135, dtype: bool\n",
    "(df['salary']>10000).value_counts() #True     119  False     16  Name: salary, dtype: int64\n",
    "\n",
    "# 方法2，获取DataFrame记录数\n",
    "df[(df['salary']>10000)]\n",
    "len(df[(df['salary']>10000)])"
   ]
  },
  {
   "cell_type": "markdown",
   "metadata": {},
   "source": [
    "# 48.数据统计\n",
    "查看每种学历出现的次数"
   ]
  },
  {
   "cell_type": "code",
   "execution_count": 276,
   "metadata": {},
   "outputs": [
    {
     "data": {
      "text/plain": [
       "本科    119\n",
       "硕士      7\n",
       "不限      5\n",
       "大专      4\n",
       "Name: education, dtype: int64"
      ]
     },
     "execution_count": 276,
     "metadata": {},
     "output_type": "execute_result"
    }
   ],
   "source": [
    "df['education'].value_counts()"
   ]
  },
  {
   "cell_type": "markdown",
   "metadata": {},
   "source": [
    "# 49.数据查看\n",
    "查看education共有几种学历"
   ]
  },
  {
   "cell_type": "code",
   "execution_count": 279,
   "metadata": {},
   "outputs": [
    {
     "data": {
      "text/plain": [
       "array(['本科', '不限', '硕士', '大专'], dtype=object)"
      ]
     },
     "execution_count": 279,
     "metadata": {},
     "output_type": "execute_result"
    }
   ],
   "source": [
    "df['education'].unique()"
   ]
  },
  {
   "cell_type": "markdown",
   "metadata": {},
   "source": [
    "# 50.数据提取\n",
    "提取salary列与new列的和大于60000的最后3行"
   ]
  },
  {
   "cell_type": "code",
   "execution_count": 297,
   "metadata": {},
   "outputs": [
    {
     "data": {
      "text/html": [
       "<div>\n",
       "<style scoped>\n",
       "    .dataframe tbody tr th:only-of-type {\n",
       "        vertical-align: middle;\n",
       "    }\n",
       "\n",
       "    .dataframe tbody tr th {\n",
       "        vertical-align: top;\n",
       "    }\n",
       "\n",
       "    .dataframe thead th {\n",
       "        text-align: right;\n",
       "    }\n",
       "</style>\n",
       "<table border=\"1\" class=\"dataframe\">\n",
       "  <thead>\n",
       "    <tr style=\"text-align: right;\">\n",
       "      <th></th>\n",
       "      <th>createTime</th>\n",
       "      <th>education</th>\n",
       "      <th>salary</th>\n",
       "      <th>test</th>\n",
       "      <th>test1</th>\n",
       "      <th>0</th>\n",
       "      <th>new</th>\n",
       "    </tr>\n",
       "  </thead>\n",
       "  <tbody>\n",
       "    <tr>\n",
       "      <th>131</th>\n",
       "      <td>03-16</td>\n",
       "      <td>硕士</td>\n",
       "      <td>37500.0</td>\n",
       "      <td>03-16硕士</td>\n",
       "      <td>硕士37500.0</td>\n",
       "      <td>3</td>\n",
       "      <td>37497.0</td>\n",
       "    </tr>\n",
       "    <tr>\n",
       "      <th>101</th>\n",
       "      <td>03-16</td>\n",
       "      <td>本科</td>\n",
       "      <td>37500.0</td>\n",
       "      <td>03-16本科</td>\n",
       "      <td>本科37500.0</td>\n",
       "      <td>1</td>\n",
       "      <td>37499.0</td>\n",
       "    </tr>\n",
       "    <tr>\n",
       "      <th>92</th>\n",
       "      <td>03-16</td>\n",
       "      <td>本科</td>\n",
       "      <td>35000.0</td>\n",
       "      <td>03-16本科</td>\n",
       "      <td>本科35000.0</td>\n",
       "      <td>6</td>\n",
       "      <td>34994.0</td>\n",
       "    </tr>\n",
       "  </tbody>\n",
       "</table>\n",
       "</div>"
      ],
      "text/plain": [
       "    createTime education   salary     test      test1  0      new\n",
       "131      03-16        硕士  37500.0  03-16硕士  硕士37500.0  3  37497.0\n",
       "101      03-16        本科  37500.0  03-16本科  本科37500.0  1  37499.0\n",
       "92       03-16        本科  35000.0  03-16本科  本科35000.0  6  34994.0"
      ]
     },
     "execution_count": 297,
     "metadata": {},
     "output_type": "execute_result"
    }
   ],
   "source": [
    "# 和的两种计算方式\n",
    "# 方法1，直接加和\n",
    "df['salary']+df['new']\n",
    "\n",
    "# 方法2，函数映射\n",
    "df1=df[['salary','new']]\n",
    "rowsums=df1.apply(np.sum,axis=1)\n",
    "# rowsums\n",
    "df[(df['salary']+df['new'])>60000]\n",
    "df[(df['salary']+df['new'])>60000].tail(3)\n",
    "df[(df['salary']+df['new'])>60000][::-1][:3] #::为间隔步数，-1表示倒数，3表示3个"
   ]
  },
  {
   "cell_type": "code",
   "execution_count": 305,
   "metadata": {},
   "outputs": [
    {
     "data": {
      "text/html": [
       "<div>\n",
       "<style scoped>\n",
       "    .dataframe tbody tr th:only-of-type {\n",
       "        vertical-align: middle;\n",
       "    }\n",
       "\n",
       "    .dataframe tbody tr th {\n",
       "        vertical-align: top;\n",
       "    }\n",
       "\n",
       "    .dataframe thead th {\n",
       "        text-align: right;\n",
       "    }\n",
       "</style>\n",
       "<table border=\"1\" class=\"dataframe\">\n",
       "  <thead>\n",
       "    <tr style=\"text-align: right;\">\n",
       "      <th></th>\n",
       "      <th>createTime</th>\n",
       "      <th>education</th>\n",
       "      <th>salary</th>\n",
       "      <th>test</th>\n",
       "      <th>test1</th>\n",
       "      <th>0</th>\n",
       "      <th>new</th>\n",
       "    </tr>\n",
       "  </thead>\n",
       "  <tbody>\n",
       "    <tr>\n",
       "      <th>92</th>\n",
       "      <td>03-16</td>\n",
       "      <td>本科</td>\n",
       "      <td>35000.0</td>\n",
       "      <td>03-16本科</td>\n",
       "      <td>本科35000.0</td>\n",
       "      <td>6</td>\n",
       "      <td>34994.0</td>\n",
       "    </tr>\n",
       "    <tr>\n",
       "      <th>101</th>\n",
       "      <td>03-16</td>\n",
       "      <td>本科</td>\n",
       "      <td>37500.0</td>\n",
       "      <td>03-16本科</td>\n",
       "      <td>本科37500.0</td>\n",
       "      <td>1</td>\n",
       "      <td>37499.0</td>\n",
       "    </tr>\n",
       "    <tr>\n",
       "      <th>131</th>\n",
       "      <td>03-16</td>\n",
       "      <td>硕士</td>\n",
       "      <td>37500.0</td>\n",
       "      <td>03-16硕士</td>\n",
       "      <td>硕士37500.0</td>\n",
       "      <td>3</td>\n",
       "      <td>37497.0</td>\n",
       "    </tr>\n",
       "  </tbody>\n",
       "</table>\n",
       "</div>"
      ],
      "text/plain": [
       "    createTime education   salary     test      test1  0      new\n",
       "92       03-16        本科  35000.0  03-16本科  本科35000.0  6  34994.0\n",
       "101      03-16        本科  37500.0  03-16本科  本科37500.0  1  37499.0\n",
       "131      03-16        硕士  37500.0  03-16硕士  硕士37500.0  3  37497.0"
      ]
     },
     "execution_count": 305,
     "metadata": {},
     "output_type": "execute_result"
    }
   ],
   "source": [
    "df1=df[['salary','new']]\n",
    "rowsums=df1.apply(np.sum,axis=1)\n",
    "np.where(rowsums>60000) #返回元组\n",
    "np.where(rowsums>60000)[0]\n",
    "np.where(rowsums>60000)[0][-3:]\n",
    "df.iloc[np.where(rowsums>60000)[0][-3:]]"
   ]
  },
  {
   "cell_type": "code",
   "execution_count": null,
   "metadata": {},
   "outputs": [],
   "source": []
  }
 ],
 "metadata": {
  "kernelspec": {
   "display_name": "Python 3",
   "language": "python",
   "name": "python3"
  },
  "language_info": {
   "codemirror_mode": {
    "name": "ipython",
    "version": 3
   },
   "file_extension": ".py",
   "mimetype": "text/x-python",
   "name": "python",
   "nbconvert_exporter": "python",
   "pygments_lexer": "ipython3",
   "version": "3.6.4"
  }
 },
 "nbformat": 4,
 "nbformat_minor": 2
}
